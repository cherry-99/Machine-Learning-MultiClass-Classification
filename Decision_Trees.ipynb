{
 "cells": [
  {
   "cell_type": "code",
   "execution_count": 1,
   "metadata": {},
   "outputs": [],
   "source": [
    "import pandas as pd\n",
    "import numpy as np"
   ]
  },
  {
   "cell_type": "code",
   "execution_count": 2,
   "metadata": {},
   "outputs": [
    {
     "data": {
      "text/html": [
       "<div>\n",
       "<style scoped>\n",
       "    .dataframe tbody tr th:only-of-type {\n",
       "        vertical-align: middle;\n",
       "    }\n",
       "\n",
       "    .dataframe tbody tr th {\n",
       "        vertical-align: top;\n",
       "    }\n",
       "\n",
       "    .dataframe thead th {\n",
       "        text-align: right;\n",
       "    }\n",
       "</style>\n",
       "<table border=\"1\" class=\"dataframe\">\n",
       "  <thead>\n",
       "    <tr style=\"text-align: right;\">\n",
       "      <th></th>\n",
       "      <th>P. Name</th>\n",
       "      <th>P. Zone Class</th>\n",
       "      <th>P. Mass Class</th>\n",
       "      <th>P. Composition Class</th>\n",
       "      <th>P. Atmosphere Class</th>\n",
       "      <th>P. Density (EU)</th>\n",
       "      <th>P. Gravity (EU)</th>\n",
       "      <th>P. Esc Vel (EU)</th>\n",
       "      <th>P. SFlux Min (EU)</th>\n",
       "      <th>P. SFlux Mean (EU)</th>\n",
       "      <th>...</th>\n",
       "      <th>P. HZD</th>\n",
       "      <th>P. HZC</th>\n",
       "      <th>P. HZA</th>\n",
       "      <th>P. HZI</th>\n",
       "      <th>P. SPH</th>\n",
       "      <th>P. ESI</th>\n",
       "      <th>S. HabCat</th>\n",
       "      <th>P. Habitable</th>\n",
       "      <th>P. Hab Moon</th>\n",
       "      <th>P. Confirmed</th>\n",
       "    </tr>\n",
       "  </thead>\n",
       "  <tbody>\n",
       "    <tr>\n",
       "      <th>0</th>\n",
       "      <td>GJ 163 c</td>\n",
       "      <td>Warm</td>\n",
       "      <td>Superterran</td>\n",
       "      <td>rocky-iron</td>\n",
       "      <td>metals-rich</td>\n",
       "      <td>1.19</td>\n",
       "      <td>2.17</td>\n",
       "      <td>1.99</td>\n",
       "      <td>0.551557</td>\n",
       "      <td>0.663002</td>\n",
       "      <td>...</td>\n",
       "      <td>-0.34</td>\n",
       "      <td>-0.14</td>\n",
       "      <td>0.81</td>\n",
       "      <td>0.53</td>\n",
       "      <td>0.08</td>\n",
       "      <td>0.73</td>\n",
       "      <td>0</td>\n",
       "      <td>1</td>\n",
       "      <td>0</td>\n",
       "      <td>1</td>\n",
       "    </tr>\n",
       "    <tr>\n",
       "      <th>1</th>\n",
       "      <td>GJ 667 C e</td>\n",
       "      <td>Warm</td>\n",
       "      <td>Terran</td>\n",
       "      <td>rocky-iron</td>\n",
       "      <td>metals-rich</td>\n",
       "      <td>0.99</td>\n",
       "      <td>1.39</td>\n",
       "      <td>1.39</td>\n",
       "      <td>0.290249</td>\n",
       "      <td>0.302030</td>\n",
       "      <td>...</td>\n",
       "      <td>0.51</td>\n",
       "      <td>-0.16</td>\n",
       "      <td>0.23</td>\n",
       "      <td>0.63</td>\n",
       "      <td>0.00</td>\n",
       "      <td>0.60</td>\n",
       "      <td>0</td>\n",
       "      <td>1</td>\n",
       "      <td>0</td>\n",
       "      <td>0</td>\n",
       "    </tr>\n",
       "    <tr>\n",
       "      <th>2</th>\n",
       "      <td>GJ 667 C f</td>\n",
       "      <td>Warm</td>\n",
       "      <td>Terran</td>\n",
       "      <td>rocky-iron</td>\n",
       "      <td>metals-rich</td>\n",
       "      <td>0.99</td>\n",
       "      <td>1.39</td>\n",
       "      <td>1.39</td>\n",
       "      <td>0.530653</td>\n",
       "      <td>0.563207</td>\n",
       "      <td>...</td>\n",
       "      <td>-0.22</td>\n",
       "      <td>-0.16</td>\n",
       "      <td>0.08</td>\n",
       "      <td>0.78</td>\n",
       "      <td>0.00</td>\n",
       "      <td>0.77</td>\n",
       "      <td>0</td>\n",
       "      <td>1</td>\n",
       "      <td>0</td>\n",
       "      <td>0</td>\n",
       "    </tr>\n",
       "    <tr>\n",
       "      <th>3</th>\n",
       "      <td>GJ 682 c</td>\n",
       "      <td>Warm</td>\n",
       "      <td>Superterran</td>\n",
       "      <td>rocky-iron</td>\n",
       "      <td>hydrogen-rich</td>\n",
       "      <td>1.24</td>\n",
       "      <td>2.37</td>\n",
       "      <td>2.13</td>\n",
       "      <td>0.302060</td>\n",
       "      <td>0.367301</td>\n",
       "      <td>...</td>\n",
       "      <td>0.23</td>\n",
       "      <td>-0.14</td>\n",
       "      <td>1.19</td>\n",
       "      <td>0.45</td>\n",
       "      <td>0.00</td>\n",
       "      <td>0.59</td>\n",
       "      <td>0</td>\n",
       "      <td>1</td>\n",
       "      <td>0</td>\n",
       "      <td>0</td>\n",
       "    </tr>\n",
       "    <tr>\n",
       "      <th>4</th>\n",
       "      <td>GJ 3293 d</td>\n",
       "      <td>Warm</td>\n",
       "      <td>Superterran</td>\n",
       "      <td>rocky-iron</td>\n",
       "      <td>metals-rich</td>\n",
       "      <td>1.20</td>\n",
       "      <td>2.22</td>\n",
       "      <td>2.03</td>\n",
       "      <td>0.447687</td>\n",
       "      <td>0.565605</td>\n",
       "      <td>...</td>\n",
       "      <td>-0.21</td>\n",
       "      <td>-0.14</td>\n",
       "      <td>0.91</td>\n",
       "      <td>0.52</td>\n",
       "      <td>0.00</td>\n",
       "      <td>0.70</td>\n",
       "      <td>0</td>\n",
       "      <td>1</td>\n",
       "      <td>0</td>\n",
       "      <td>1</td>\n",
       "    </tr>\n",
       "  </tbody>\n",
       "</table>\n",
       "<p>5 rows × 40 columns</p>\n",
       "</div>"
      ],
      "text/plain": [
       "      P. Name P. Zone Class P. Mass Class P. Composition Class  \\\n",
       "0    GJ 163 c          Warm   Superterran           rocky-iron   \n",
       "1  GJ 667 C e          Warm        Terran           rocky-iron   \n",
       "2  GJ 667 C f          Warm        Terran           rocky-iron   \n",
       "3    GJ 682 c          Warm   Superterran           rocky-iron   \n",
       "4   GJ 3293 d          Warm   Superterran           rocky-iron   \n",
       "\n",
       "  P. Atmosphere Class  P. Density (EU)  P. Gravity (EU)  P. Esc Vel (EU)  \\\n",
       "0         metals-rich             1.19             2.17             1.99   \n",
       "1         metals-rich             0.99             1.39             1.39   \n",
       "2         metals-rich             0.99             1.39             1.39   \n",
       "3       hydrogen-rich             1.24             2.37             2.13   \n",
       "4         metals-rich             1.20             2.22             2.03   \n",
       "\n",
       "   P. SFlux Min (EU)  P. SFlux Mean (EU)  ...  P. HZD  P. HZC  P. HZA  P. HZI  \\\n",
       "0           0.551557            0.663002  ...   -0.34   -0.14    0.81    0.53   \n",
       "1           0.290249            0.302030  ...    0.51   -0.16    0.23    0.63   \n",
       "2           0.530653            0.563207  ...   -0.22   -0.16    0.08    0.78   \n",
       "3           0.302060            0.367301  ...    0.23   -0.14    1.19    0.45   \n",
       "4           0.447687            0.565605  ...   -0.21   -0.14    0.91    0.52   \n",
       "\n",
       "   P. SPH  P. ESI  S. HabCat  P. Habitable  P. Hab Moon  P. Confirmed  \n",
       "0    0.08    0.73          0             1            0             1  \n",
       "1    0.00    0.60          0             1            0             0  \n",
       "2    0.00    0.77          0             1            0             0  \n",
       "3    0.00    0.59          0             1            0             0  \n",
       "4    0.00    0.70          0             1            0             1  \n",
       "\n",
       "[5 rows x 40 columns]"
      ]
     },
     "execution_count": 2,
     "metadata": {},
     "output_type": "execute_result"
    }
   ],
   "source": [
    "df = pd.read_csv(\"working_csv.csv\")\n",
    "Y = df[\"P. Habitable Class\"]\n",
    "X = df.drop(\"P. Habitable Class\",axis=1)\n",
    "\n",
    "header = list(df.columns)\n",
    "\n",
    "from sklearn.model_selection import train_test_split\n",
    "X_train, X_test, Y_train, Y_test = train_test_split(X, Y, test_size=0.30)\n",
    "\n",
    "X_train_list = X_train.values.tolist()\n",
    "X_test_list = X_test.values.tolist()\n",
    "Y_train_list = Y_train.values.tolist()\n",
    "Y_test_list = Y_test.values.tolist()\n",
    "    \n",
    "training_data = list(map(lambda x:x[0]+[x[1]],zip(X_train_list,Y_train_list)))\n",
    "testing_data = list(map(lambda x:x[0]+[x[1]],zip(X_test_list,Y_test_list)))\n",
    "\n",
    "X.head()"
   ]
  },
  {
   "cell_type": "code",
   "execution_count": 3,
   "metadata": {},
   "outputs": [],
   "source": [
    "def class_counts(rows):\n",
    "    counts = {}\n",
    "    for row in rows:\n",
    "        label = row[-1]\n",
    "        if label not in counts:\n",
    "            counts[label] = 0\n",
    "        counts[label] += 1\n",
    "    return counts"
   ]
  },
  {
   "cell_type": "code",
   "execution_count": 4,
   "metadata": {},
   "outputs": [],
   "source": [
    "def gini(rows):\n",
    "    counts = class_counts(rows)\n",
    "    impurity = 1\n",
    "    for lbl in counts:\n",
    "        prob_of_lbl = counts[lbl] / float(len(rows))\n",
    "        impurity -= prob_of_lbl**2\n",
    "    return impurity"
   ]
  },
  {
   "cell_type": "code",
   "execution_count": 5,
   "metadata": {},
   "outputs": [],
   "source": [
    "def info_gain(left, right, current_uncertainty):\n",
    "    p = float(len(left)) / (len(left) + len(right))\n",
    "    return current_uncertainty - p * gini(left) - (1 - p) * gini(right)"
   ]
  },
  {
   "cell_type": "code",
   "execution_count": 6,
   "metadata": {},
   "outputs": [
    {
     "data": {
      "text/plain": [
       "{'mesoplanet': 13, 'non-habitable': 11, 'psychroplanet': 13}"
      ]
     },
     "execution_count": 6,
     "metadata": {},
     "output_type": "execute_result"
    }
   ],
   "source": [
    "count = class_counts(training_data)\n",
    "count"
   ]
  },
  {
   "cell_type": "code",
   "execution_count": 7,
   "metadata": {},
   "outputs": [],
   "source": [
    "def is_numeric(value):\n",
    "    return isinstance(value, int) or isinstance(value, float)"
   ]
  },
  {
   "cell_type": "code",
   "execution_count": 8,
   "metadata": {},
   "outputs": [],
   "source": [
    "class Question:\n",
    "    def __init__(self, column, value):\n",
    "        self.column = column\n",
    "        self.value = value\n",
    "        \n",
    "    def __repr__(self):\n",
    "        condition = \">=\"\n",
    "        if not is_numeric(self.value):\n",
    "            condition = \"==\"\n",
    "        return \"Is %s %s %s?\" % (header[self.column], condition, str(self.value))\n",
    "\n",
    "    def match(self, example):\n",
    "        val = example[self.column]\n",
    "        if is_numeric(val):\n",
    "            return val >= self.value\n",
    "        else:\n",
    "            return val == self.value\n",
    "    "
   ]
  },
  {
   "cell_type": "code",
   "execution_count": 9,
   "metadata": {},
   "outputs": [],
   "source": [
    "def partition(rows, question):\n",
    "    true_rows, false_rows = [], []\n",
    "    for row in rows:\n",
    "        if question.match(row):\n",
    "            true_rows.append(row)\n",
    "        else:\n",
    "            false_rows.append(row)\n",
    "    return true_rows, false_rows"
   ]
  },
  {
   "cell_type": "code",
   "execution_count": 10,
   "metadata": {},
   "outputs": [],
   "source": [
    "def find_best_split(rows):\n",
    "    best_gain = 0\n",
    "    best_question = None\n",
    "    current_uncertainty = gini(rows)\n",
    "    n_features = len(rows[0]) - 1\n",
    "\n",
    "    for col in range(n_features):\n",
    "\n",
    "        values = set([row[col] for row in rows])\n",
    "\n",
    "        for val in values:\n",
    "\n",
    "            question = Question(col, val)\n",
    "\n",
    "            true_rows, false_rows = partition(rows, question)\n",
    "\n",
    "            if len(true_rows) == 0 or len(false_rows) == 0:\n",
    "                continue\n",
    "\n",
    "            gain = info_gain(true_rows, false_rows, current_uncertainty)\n",
    "\n",
    "            if gain >= best_gain:\n",
    "                best_gain, best_question = gain, question\n",
    "\n",
    "    return best_gain, best_question"
   ]
  },
  {
   "cell_type": "code",
   "execution_count": 11,
   "metadata": {},
   "outputs": [],
   "source": [
    "class Leaf:\n",
    "    def __init__(self, rows):\n",
    "        self.predictions = class_counts(rows)"
   ]
  },
  {
   "cell_type": "code",
   "execution_count": 12,
   "metadata": {},
   "outputs": [],
   "source": [
    "class Decision_Node:\n",
    "    def __init__(self,\n",
    "                 question,\n",
    "                 true_branch,\n",
    "                 false_branch):\n",
    "        self.question = question\n",
    "        self.true_branch = true_branch\n",
    "        self.false_branch = false_branch"
   ]
  },
  {
   "cell_type": "code",
   "execution_count": 13,
   "metadata": {},
   "outputs": [],
   "source": [
    "def build_tree(rows):\n",
    "    gain, question = find_best_split(rows)\n",
    "    if gain == 0:\n",
    "        return Leaf(rows)\n",
    "    true_rows, false_rows = partition(rows, question)\n",
    "    true_branch = build_tree(true_rows)\n",
    "    false_branch = build_tree(false_rows)\n",
    "    return Decision_Node(question, true_branch, false_branch)"
   ]
  },
  {
   "cell_type": "code",
   "execution_count": 14,
   "metadata": {},
   "outputs": [],
   "source": [
    "def print_tree(node, spacing=\"\"):\n",
    "    if isinstance(node, Leaf):\n",
    "        print (spacing + \"└── Predict\", node.predictions)\n",
    "        return\n",
    "    print (spacing + str(node.question))\n",
    "\n",
    "    print (spacing + '├── True:')\n",
    "    print_tree(node.true_branch, spacing + \"|  \")\n",
    "\n",
    "    print (spacing + '├── False:')\n",
    "    print_tree(node.false_branch, spacing + \"|  \")"
   ]
  },
  {
   "cell_type": "code",
   "execution_count": 15,
   "metadata": {},
   "outputs": [],
   "source": [
    "my_tree = build_tree(training_data)"
   ]
  },
  {
   "cell_type": "code",
   "execution_count": 16,
   "metadata": {
    "scrolled": true
   },
   "outputs": [
    {
     "name": "stdout",
     "output_type": "stream",
     "text": [
      "Is P. SPH >= 0.53?\n",
      "├── True:\n",
      "|  Is S. Hab Zone Max (AU) >= -0.39?\n",
      "|  ├── True:\n",
      "|  |  └── Predict {'psychroplanet': 13}\n",
      "|  ├── False:\n",
      "|  |  └── Predict {'mesoplanet': 13}\n",
      "├── False:\n",
      "|  └── Predict {'non-habitable': 11}\n"
     ]
    }
   ],
   "source": [
    "print_tree(my_tree)"
   ]
  },
  {
   "cell_type": "code",
   "execution_count": 17,
   "metadata": {},
   "outputs": [],
   "source": [
    "def classify(row, node):\n",
    "    if isinstance(node, Leaf):\n",
    "        return node.predictions\n",
    "\n",
    "    if node.question.match(row):\n",
    "        return classify(row, node.true_branch)\n",
    "    else:\n",
    "        return classify(row, node.false_branch)"
   ]
  },
  {
   "cell_type": "code",
   "execution_count": 18,
   "metadata": {},
   "outputs": [],
   "source": [
    "def print_leaf(counts):\n",
    "    total = sum(counts.values()) * 1.0\n",
    "    probs = {}\n",
    "    for lbl in counts.keys():\n",
    "        probs[lbl] = str(int(counts[lbl] / total * 100)) + \"%\"\n",
    "    return probs"
   ]
  },
  {
   "cell_type": "code",
   "execution_count": 19,
   "metadata": {},
   "outputs": [],
   "source": [
    "y_pred = []\n",
    "y_test = []\n",
    "for i,row in enumerate(testing_data):\n",
    "#     print (\"Actual: %s. Predicted: %s\" % (row[-1], print_leaf(classify(row, my_tree))))\n",
    "    val = classify(row,my_tree)\n",
    "    \n",
    "    y_test.append(row[-1])\n",
    "    y_pred.append(list(val.keys())[0])"
   ]
  },
  {
   "cell_type": "code",
   "execution_count": 20,
   "metadata": {},
   "outputs": [
    {
     "name": "stdout",
     "output_type": "stream",
     "text": [
      "[[5 0 0]\n",
      " [0 7 0]\n",
      " [1 0 4]]\n",
      "               precision    recall  f1-score   support\n",
      "\n",
      "   mesoplanet       0.83      1.00      0.91         5\n",
      "non-habitable       1.00      1.00      1.00         7\n",
      "psychroplanet       1.00      0.80      0.89         5\n",
      "\n",
      "     accuracy                           0.94        17\n",
      "    macro avg       0.94      0.93      0.93        17\n",
      " weighted avg       0.95      0.94      0.94        17\n",
      "\n"
     ]
    }
   ],
   "source": [
    "from sklearn.metrics import classification_report, confusion_matrix\n",
    "print(confusion_matrix(y_test, y_pred))\n",
    "print(classification_report(y_test, y_pred))"
   ]
  },
  {
   "cell_type": "code",
   "execution_count": null,
   "metadata": {},
   "outputs": [],
   "source": []
  }
 ],
 "metadata": {
  "kernelspec": {
   "display_name": "Python 3",
   "language": "python",
   "name": "python3"
  },
  "language_info": {
   "codemirror_mode": {
    "name": "ipython",
    "version": 3
   },
   "file_extension": ".py",
   "mimetype": "text/x-python",
   "name": "python",
   "nbconvert_exporter": "python",
   "pygments_lexer": "ipython3",
   "version": "3.5.2"
  }
 },
 "nbformat": 4,
 "nbformat_minor": 2
}
