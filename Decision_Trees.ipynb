{
 "cells": [
  {
   "cell_type": "code",
   "execution_count": 2,
   "metadata": {},
   "outputs": [],
   "source": [
    "import pandas as pd\n",
    "import numpy as np\n",
    "import math"
   ]
  },
  {
   "cell_type": "code",
   "execution_count": 3,
   "metadata": {},
   "outputs": [],
   "source": [
    "def class_counts(rows):\n",
    "    counts = {}\n",
    "    for row in rows:\n",
    "        label = row[-1]\n",
    "        if label not in counts:\n",
    "            counts[label] = 0\n",
    "        counts[label] += 1\n",
    "    return counts"
   ]
  },
  {
   "cell_type": "code",
   "execution_count": 4,
   "metadata": {},
   "outputs": [],
   "source": [
    "def gini(rows):\n",
    "    counts = class_counts(rows)\n",
    "    impurity = 1\n",
    "    for label in counts:\n",
    "        prob_of_label = counts[label] / float(len(rows))\n",
    "        impurity -= prob_of_label**2\n",
    "    return impurity"
   ]
  },
  {
   "cell_type": "code",
   "execution_count": 5,
   "metadata": {},
   "outputs": [],
   "source": [
    "def info_gain(left, right, current_uncertainty):\n",
    "    p = float(len(left)) / (len(left) + len(right))\n",
    "    return current_uncertainty - p * gini(left) - (1 - p) * gini(right)"
   ]
  },
  {
   "cell_type": "code",
   "execution_count": 6,
   "metadata": {},
   "outputs": [],
   "source": [
    "def is_numeric(value):\n",
    "    return isinstance(value, int) or isinstance(value, float)"
   ]
  },
  {
   "cell_type": "code",
   "execution_count": 7,
   "metadata": {},
   "outputs": [],
   "source": [
    "class Rule:\n",
    "    def __init__(self, column, value):\n",
    "        self.column = column\n",
    "        self.value = value\n",
    "        \n",
    "    def __repr__(self):\n",
    "        condition = \"==\"\n",
    "        if is_numeric(self.value):\n",
    "            condition = \">=\"\n",
    "        return \"Is %s %s %s?\" % (header[self.column], condition, str(self.value))\n",
    "\n",
    "    def match(self, example):\n",
    "        val = example[self.column]\n",
    "        try:\n",
    "            if is_numeric(val):\n",
    "                return val >= self.value\n",
    "            else:\n",
    "                return val == self.value\n",
    "        except TypeError:\n",
    "            return 'nan'\n"
   ]
  },
  {
   "cell_type": "code",
   "execution_count": 8,
   "metadata": {},
   "outputs": [],
   "source": [
    "def build_stump(rows, rule):\n",
    "    true_rows, false_rows = [], []\n",
    "    for row in rows:\n",
    "        if isinstance(row[rule.column],float) and math.isnan(row[rule.column]):\n",
    "            continue\n",
    "        if rule.match(row):\n",
    "            true_rows.append(row)\n",
    "        else:\n",
    "            false_rows.append(row)\n",
    "    return true_rows, false_rows"
   ]
  },
  {
   "cell_type": "code",
   "execution_count": 9,
   "metadata": {},
   "outputs": [],
   "source": [
    "def find_best_split(rows):\n",
    "    best_gain = 0\n",
    "    best_rule = None\n",
    "    current_uncertainty = gini(rows)\n",
    "    n_features = len(rows[0]) - 1\n",
    "\n",
    "    for col in range(n_features):\n",
    "        values = set([row[col] for row in rows])\n",
    "        for val in values:\n",
    "            rule = Rule(col, val)\n",
    "            true_rows, false_rows = build_stump(rows, rule)\n",
    "\n",
    "            if len(true_rows) == 0 or len(false_rows) == 0:\n",
    "                continue\n",
    "\n",
    "            gain = info_gain(true_rows, false_rows, current_uncertainty)\n",
    "            if gain >= best_gain:\n",
    "                best_gain, best_rule = gain, rule\n",
    "\n",
    "    return best_gain, best_rule"
   ]
  },
  {
   "cell_type": "code",
   "execution_count": 10,
   "metadata": {},
   "outputs": [],
   "source": [
    "class Leaf:\n",
    "    def __init__(self, rows):\n",
    "        val = class_counts(rows)\n",
    "        itemMax = max(val.items(), key=lambda x : x[1])\n",
    "        self.predictions = itemMax[0]"
   ]
  },
  {
   "cell_type": "code",
   "execution_count": 11,
   "metadata": {},
   "outputs": [],
   "source": [
    "class Decision_Node:\n",
    "    def __init__(self,rule,true_branch,false_branch):\n",
    "        self.rule = rule\n",
    "        self.true_branch = true_branch\n",
    "        self.false_branch = false_branch"
   ]
  },
  {
   "cell_type": "code",
   "execution_count": 12,
   "metadata": {},
   "outputs": [],
   "source": [
    "def build_tree(rows, max_depth = 10, depth = 0):\n",
    "    gain, rule = find_best_split(rows)\n",
    "    if gain == 0 or depth >= max_depth:\n",
    "        return Leaf(rows)\n",
    "    true_rows, false_rows = build_stump(rows, rule)\n",
    "    true_branch = build_tree(true_rows, max_depth, depth+1)\n",
    "    false_branch = build_tree(false_rows, max_depth, depth+1)\n",
    "    return Decision_Node(rule, true_branch, false_branch)"
   ]
  },
  {
   "cell_type": "code",
   "execution_count": 14,
   "metadata": {},
   "outputs": [],
   "source": [
    "def predict(row, node):\n",
    "    if isinstance(node, Leaf):\n",
    "        return node.predictions\n",
    "\n",
    "    if node.rule.match(row):\n",
    "        return predict(row, node.true_branch)\n",
    "    else:\n",
    "        return predict(row, node.false_branch)"
   ]
  },
  {
   "cell_type": "code",
   "execution_count": 13,
   "metadata": {},
   "outputs": [],
   "source": [
    "def print_tree(node, spacing=\"\"):\n",
    "    if isinstance(node, Leaf):\n",
    "        print (spacing + \"└── Predict\", node.predictions)\n",
    "        return\n",
    "    print (spacing + str(node.rule))\n",
    "\n",
    "    print (spacing + '├── True:')\n",
    "    print_tree(node.true_branch, spacing + \"|  \")\n",
    "\n",
    "    print (spacing + '├── False:')\n",
    "    print_tree(node.false_branch, spacing + \"|  \")"
   ]
  },
  {
   "cell_type": "code",
   "execution_count": null,
   "metadata": {},
   "outputs": [],
   "source": [
    "#testing only \n",
    "\n",
    "df = pd.read_csv(\"Datasets/working_csv7.csv\")\n",
    "Y = df[\"P. Habitable Class\"]\n",
    "X = df.drop(\"P. Habitable Class\",axis=1)\n",
    "header = list(df.columns)\n",
    "\n",
    "from sklearn.model_selection import train_test_split\n",
    "X_train, X_test, Y_train, Y_test = train_test_split(X, Y, test_size=0.30)\n",
    "\n",
    "X_train_list = X_train.values.tolist()\n",
    "X_test_list = X_test.values.tolist()\n",
    "Y_train_list = Y_train.values.tolist()\n",
    "Y_test_list = Y_test.values.tolist()\n",
    "    \n",
    "training_data = list(map(lambda x:x[0]+[x[1]],zip(X_train_list,Y_train_list)))\n",
    "testing_data = list(map(lambda x:x[0]+[x[1]],zip(X_test_list,Y_test_list)))\n",
    "\n",
    "my_tree = build_tree(training_data,3)\n",
    "\n",
    "y_pred = []\n",
    "y_test = []\n",
    "\n",
    "for i,row in enumerate(testing_data):\n",
    "#     print (\"Actual: %s. Predicted: %s\" % (row[-1], print_leaf(predict(row, my_tree))))\n",
    "    val = predict(row,my_tree)\n",
    "    \n",
    "    y_test.append(row[-1])\n",
    "#     y_pred.append(list(val.keys())[0])\n",
    "    y_pred.append(val)\n",
    "\n",
    "from sklearn.metrics import classification_report, confusion_matrix\n",
    "print(confusion_matrix(y_test, y_pred))\n",
    "print(classification_report(y_test, y_pred))"
   ]
  },
  {
   "cell_type": "code",
   "execution_count": 26,
   "metadata": {},
   "outputs": [],
   "source": [
    "#evaluate model on all 500 datasets\n",
    "\n",
    "from sklearn.model_selection import train_test_split\n",
    "from functools import reduce\n",
    "\n",
    "pred_labels = []\n",
    "actual_labels = []\n",
    "\n",
    "for i in range(500):\n",
    "    df = pd.read_csv(\"Datasets/working_csv\"+str(i)+\".csv\")\n",
    "    Y = df[\"P. Habitable Class\"]\n",
    "    X = df.drop(\"P. Habitable Class\",axis=1)\n",
    "\n",
    "    header = list(df.columns)\n",
    "\n",
    "    X_train, X_test, Y_train, Y_test = train_test_split(X, Y, test_size=0.30)\n",
    "\n",
    "    X_train_list = X_train.values.tolist()\n",
    "    X_test_list = X_test.values.tolist()\n",
    "    Y_train_list = Y_train.values.tolist()\n",
    "    Y_test_list = Y_test.values.tolist()\n",
    "\n",
    "    training_data = list(map(lambda x:x[0]+[x[1]],zip(X_train_list,Y_train_list)))\n",
    "    testing_data = list(map(lambda x:x[0]+[x[1]],zip(X_test_list,Y_test_list)))\n",
    "    \n",
    "    my_tree = build_tree(training_data)\n",
    "    \n",
    "    actual_labels += Y_test_list\n",
    "    \n",
    "    for row in testing_data:\n",
    "        pred_labels.append(predict(row,my_tree))"
   ]
  },
  {
   "cell_type": "code",
   "execution_count": 28,
   "metadata": {
    "scrolled": true
   },
   "outputs": [
    {
     "name": "stdout",
     "output_type": "stream",
     "text": [
      "[[92.47  0.53  7.  ]\n",
      " [ 0.92 95.73  3.34]\n",
      " [ 9.08  5.01 85.9 ]]\n",
      "               precision    recall  f1-score   support\n",
      "\n",
      "   mesoplanet       0.90      0.92      0.91      2815\n",
      "non-habitable       0.94      0.96      0.95      2812\n",
      "psychroplanet       0.89      0.86      0.88      2873\n",
      "\n",
      "     accuracy                           0.91      8500\n",
      "    macro avg       0.91      0.91      0.91      8500\n",
      " weighted avg       0.91      0.91      0.91      8500\n",
      "\n"
     ]
    }
   ],
   "source": [
    "from sklearn.metrics import classification_report, confusion_matrix\n",
    "cm = confusion_matrix(actual_labels, pred_labels)\n",
    "cm_normalized = cm.astype('float') * 100/ cm.sum(axis=1)[:, np.newaxis]\n",
    "\n",
    "print(np.around(cm_normalized,2))\n",
    "print(classification_report(actual_labels, pred_labels))"
   ]
  },
  {
   "cell_type": "code",
   "execution_count": 25,
   "metadata": {
    "scrolled": true
   },
   "outputs": [
    {
     "name": "stdout",
     "output_type": "stream",
     "text": [
      "Is P. HZD >= -0.42?\n",
      "├── True:\n",
      "|  └── Predict psychroplanet\n",
      "├── False:\n",
      "|  Is P. Habitable >= 1?\n",
      "|  ├── True:\n",
      "|  |  └── Predict mesoplanet\n",
      "|  ├── False:\n",
      "|  |  └── Predict non-habitable\n"
     ]
    }
   ],
   "source": [
    "print_tree(my_tree)"
   ]
  },
  {
   "cell_type": "code",
   "execution_count": null,
   "metadata": {},
   "outputs": [],
   "source": []
  }
 ],
 "metadata": {
  "kernelspec": {
   "display_name": "Python 3",
   "language": "python",
   "name": "python3"
  },
  "language_info": {
   "codemirror_mode": {
    "name": "ipython",
    "version": 3
   },
   "file_extension": ".py",
   "mimetype": "text/x-python",
   "name": "python",
   "nbconvert_exporter": "python",
   "pygments_lexer": "ipython3",
   "version": "3.5.2"
  }
 },
 "nbformat": 4,
 "nbformat_minor": 2
}
