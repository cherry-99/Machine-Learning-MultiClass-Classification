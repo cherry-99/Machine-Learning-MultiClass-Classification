{
 "cells": [
  {
   "cell_type": "code",
   "execution_count": 23,
   "metadata": {},
   "outputs": [],
   "source": [
    "import pandas as pd"
   ]
  },
  {
   "cell_type": "code",
   "execution_count": 24,
   "metadata": {
    "scrolled": true
   },
   "outputs": [
    {
     "name": "stdout",
     "output_type": "stream",
     "text": [
      "Number of coumns :  68\n",
      "P. Name : object\n",
      "P. Name Kepler : object\n",
      "P. Name KOI : float64\n",
      "P. Zone Class : object\n",
      "P. Mass Class : object\n",
      "P. Composition Class : object\n",
      "P. Atmosphere Class : object\n",
      "P. Habitable Class : object\n",
      "P. Min Mass (EU) : float64\n",
      "P. Mass (EU) : float64\n",
      "P. Max Mass (EU) : float64\n",
      "P. Radius (EU) : float64\n",
      "P. Density (EU) : float64\n",
      "P. Gravity (EU) : float64\n",
      "P. Esc Vel (EU) : float64\n",
      "P. SFlux Min (EU) : object\n",
      "P. SFlux Mean (EU) : object\n",
      "P. SFlux Max (EU) : object\n",
      "P. Teq Min (K) : float64\n",
      "P. Teq Mean (K) : float64\n",
      "P. Teq Max (K) : float64\n",
      "P. Ts Min (K) : float64\n",
      "P. Ts Mean (K) : float64\n",
      "P. Ts Max (K) : float64\n",
      "P. Surf Press (EU) : float64\n",
      "P. Mag : float64\n",
      "P. Appar Size (deg) : float64\n",
      "P. Period (days) : float64\n",
      "P. Sem Major Axis (AU) : float64\n",
      "P. Eccentricity : float64\n",
      "P. Mean Distance (AU) : float64\n",
      "P. Inclination (deg) : float64\n",
      "P. Omega (deg) : float64\n",
      "S. Name : object\n",
      "S. Name HD : object\n",
      "S. Name HIP : object\n",
      "S. Constellation : object\n",
      "S. Type : object\n",
      "S. Mass (SU) : float64\n",
      "S. Radius (SU) : float64\n",
      "S. Teff (K) : float64\n",
      "S. Luminosity (SU) : float64\n",
      "S. [Fe/H] : float64\n",
      "S. Age (Gyrs) : float64\n",
      "S. Appar Mag : float64\n",
      "S. Distance (pc) : float64\n",
      "S. RA (hrs) : float64\n",
      "S. DEC (deg) : float64\n",
      "S. Mag from Planet : float64\n",
      "S. Size from Planet (deg) : float64\n",
      "S. No. Planets : int64\n",
      "S. No. Planets HZ : int64\n",
      "S. Hab Zone Min (AU) : float64\n",
      "S. Hab Zone Max (AU) : float64\n",
      "P. HZD : float64\n",
      "P. HZC : float64\n",
      "P. HZA : float64\n",
      "P. HZI : float64\n",
      "P. SPH : float64\n",
      "P. Int ESI : int64\n",
      "P. Surf ESI : int64\n",
      "P. ESI : float64\n",
      "S. HabCat : int64\n",
      "P. Habitable : int64\n",
      "P. Hab Moon : int64\n",
      "P. Confirmed : int64\n",
      "P. Disc. Method : object\n",
      "P. Disc. Year : object\n",
      "No of Float64 columns :  43\n",
      "No of Object columns :  17\n",
      "No of int64 columns :  8\n"
     ]
    }
   ],
   "source": [
    "df = pd.read_csv(\"NewDataset.csv\")\n",
    "cols = df.columns\n",
    "print(\"Number of coumns : \" , len(cols))\n",
    "f_count = 0\n",
    "o_count = 0\n",
    "i_count = 0\n",
    "for names in cols:\n",
    "    if df[names].dtype == \"float64\":\n",
    "        f_count = f_count + 1\n",
    "    elif df[names].dtype == \"object\":\n",
    "        o_count = o_count + 1\n",
    "    elif df[names].dtype == \"int64\":\n",
    "        i_count = i_count + 1\n",
    "    print(names , \":\" , df[names].dtype)\n",
    "print(\"No of Float64 columns : \" , f_count)\n",
    "print(\"No of Object columns : \" , o_count)\n",
    "print(\"No of int64 columns : \" , i_count)\n",
    "\n",
    "\n",
    "#df.drop(columns = [\"Unnamed: 68\"] , inplace = True)\n",
    "#df.to_csv(\"NewDataset.csv\" , index = False)"
   ]
  },
  {
   "cell_type": "code",
   "execution_count": null,
   "metadata": {},
   "outputs": [],
   "source": []
  }
 ],
 "metadata": {
  "kernelspec": {
   "display_name": "Python 3",
   "language": "python",
   "name": "python3"
  },
  "language_info": {
   "codemirror_mode": {
    "name": "ipython",
    "version": 3
   },
   "file_extension": ".py",
   "mimetype": "text/x-python",
   "name": "python",
   "nbconvert_exporter": "python",
   "pygments_lexer": "ipython3",
   "version": "3.6.8"
  }
 },
 "nbformat": 4,
 "nbformat_minor": 2
}
