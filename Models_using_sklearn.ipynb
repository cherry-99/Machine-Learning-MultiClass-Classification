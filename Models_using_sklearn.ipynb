{
 "cells": [
  {
   "cell_type": "code",
   "execution_count": 1,
   "metadata": {},
   "outputs": [],
   "source": [
    "import pandas as pd\n",
    "import numpy as np\n",
    "from sklearn.model_selection import train_test_split"
   ]
  },
  {
   "cell_type": "code",
   "execution_count": 2,
   "metadata": {},
   "outputs": [],
   "source": [
    "def DecisionTrees(X_train, X_test, Y_train):\n",
    "    from sklearn.tree import DecisionTreeClassifier\n",
    "    classifier = DecisionTreeClassifier()\n",
    "    classifier.fit(X_train, Y_train)\n",
    "    \n",
    "    y_pred = classifier.predict(X_test)\n",
    "    return y_pred"
   ]
  },
  {
   "cell_type": "code",
   "execution_count": 3,
   "metadata": {},
   "outputs": [],
   "source": [
    "def svm(X_train, X_test, Y_train):\n",
    "    from sklearn.svm import SVC\n",
    "    svclassifier = SVC(kernel='linear')\n",
    "    svclassifier.fit(X_train, Y_train)\n",
    "    \n",
    "    y_pred = svclassifier.predict(X_test)\n",
    "    return y_pred"
   ]
  },
  {
   "cell_type": "code",
   "execution_count": 4,
   "metadata": {},
   "outputs": [],
   "source": [
    "def KNN(X_train, X_test, Y_train):\n",
    "    \n",
    "    from sklearn.neighbors import KNeighborsClassifier\n",
    "\n",
    "    knn = KNeighborsClassifier(n_neighbors=8)\n",
    "    knn.fit(X_train,Y_train)\n",
    "    y_pred = knn.predict(X_test)\n",
    "    return y_pred"
   ]
  },
  {
   "cell_type": "code",
   "execution_count": 5,
   "metadata": {},
   "outputs": [],
   "source": [
    "def GNB(X_train, X_test, Y_train):\n",
    "    \n",
    "    from sklearn.naive_bayes import GaussianNB\n",
    "    gnb = GaussianNB()\n",
    "    gnb.fit(X_train, Y_train)\n",
    "    y_pred = gnb.predict(X_test)\n",
    "    return y_pred"
   ]
  },
  {
   "cell_type": "code",
   "execution_count": 6,
   "metadata": {},
   "outputs": [],
   "source": [
    "def RF(X_train, X_test, Y_train):\n",
    "    \n",
    "    from sklearn.ensemble import RandomForestRegressor\n",
    "    rf = RandomForestRegressor(n_estimators = 50, random_state = 42)\n",
    "    rf.fit(X_train, Y_train);\n",
    "    y_pred = rf.predict(X_test)\n",
    "    return y_pred"
   ]
  },
  {
   "cell_type": "code",
   "execution_count": 9,
   "metadata": {},
   "outputs": [],
   "source": [
    "from sklearn.model_selection import train_test_split\n",
    "from functools import reduce\n",
    "def eva(model):\n",
    "    scores = []\n",
    "    for i in range(500):\n",
    "        df = pd.read_csv(\"Datasets/working_csv\" + str(i) + \".csv\")\n",
    "        Y = df[\"P. Habitable Class\"]\n",
    "        X = df.drop(\"P. Habitable Class\",axis=1)\n",
    "\n",
    "        X = df.select_dtypes(include=['float64','int64'])\n",
    "\n",
    "        header = list(df.columns)\n",
    "\n",
    "        X_train, X_test, Y_train, Y_test = train_test_split(X, Y, test_size=0.30)\n",
    "        Y_test_list = Y_test.values.tolist()\n",
    "        \n",
    "        if model == 'DT':\n",
    "            y_pred = DecisionTrees(X_train, X_test, Y_train)\n",
    "        elif model == 'KNN':\n",
    "            from sklearn import preprocessing\n",
    "            le = preprocessing.LabelEncoder()\n",
    "            Y_en=le.fit_transform(Y)\n",
    "            X_train, X_test, Y_train, Y_test = train_test_split(X, Y, test_size=0.30)\n",
    "            Y_test_list = Y_test.values.tolist()\n",
    "            y_pred = KNN(X_train, X_test, Y_train)\n",
    "        elif model == 'GNB':\n",
    "            from sklearn import preprocessing\n",
    "            le = preprocessing.LabelEncoder()\n",
    "            Y_en=le.fit_transform(Y)\n",
    "            X_train, X_test, Y_train, Y_test = train_test_split(X, Y_en, test_size=0.30)\n",
    "            Y_test_list = list(Y_test)\n",
    "            y_pred = GNB(X_train, X_test, Y_train)\n",
    "        elif model == 'SVM':\n",
    "            y_pred = svm(X_train, X_test, Y_train)\n",
    "        elif model == 'RF':\n",
    "            from sklearn import preprocessing\n",
    "            le = preprocessing.LabelEncoder()\n",
    "            Y=le.fit_transform(Y)\n",
    "            X = np.array(X)\n",
    "            Y = np.array(Y)\n",
    "            X_train, X_test, Y_train, Y_test = train_test_split(X, Y, test_size=0.30)\n",
    "            Y_test_list = list(Y_test)\n",
    "            y_pred = RF(X_train, X_test, Y_train)\n",
    "\n",
    "        count = 0\n",
    "        for i in range(len(y_pred)):\n",
    "        #     print (\"Actual: %s. Predicted: %s\" % (row[-1], print_leaf(classify(row, my_tree))))\n",
    "            if y_pred[i] == Y_test_list[i]:\n",
    "                count += 1\n",
    "        scores.append([count/len(y_pred),count,len(y_pred)])\n",
    "\n",
    "    test_df = pd.DataFrame(scores, columns=[\"Accuracy\", \"right\", \"total\"])\n",
    "    print(reduce(lambda x,y: [(x[1]+y[1])/(x[2]+y[2]),(x[1]+y[1]),(x[2]+y[2])],scores))\n",
    "    test_df"
   ]
  },
  {
   "cell_type": "code",
   "execution_count": 188,
   "metadata": {},
   "outputs": [
    {
     "name": "stdout",
     "output_type": "stream",
     "text": [
      "[0.31894117647058823, 2711, 8500]\n"
     ]
    }
   ],
   "source": [
    "eva('RF')"
   ]
  },
  {
   "cell_type": "code",
   "execution_count": 10,
   "metadata": {},
   "outputs": [
    {
     "name": "stdout",
     "output_type": "stream",
     "text": [
      "[0.9095294117647059, 7731, 8500]\n"
     ]
    }
   ],
   "source": [
    "eva('DT')"
   ]
  },
  {
   "cell_type": "code",
   "execution_count": 11,
   "metadata": {},
   "outputs": [
    {
     "name": "stdout",
     "output_type": "stream",
     "text": [
      "[0.7991764705882353, 6793, 8500]\n"
     ]
    }
   ],
   "source": [
    "eva('SVM')"
   ]
  },
  {
   "cell_type": "code",
   "execution_count": 12,
   "metadata": {},
   "outputs": [
    {
     "name": "stdout",
     "output_type": "stream",
     "text": [
      "[0.5117647058823529, 4350, 8500]\n"
     ]
    }
   ],
   "source": [
    "eva('KNN')"
   ]
  },
  {
   "cell_type": "code",
   "execution_count": 13,
   "metadata": {},
   "outputs": [
    {
     "name": "stdout",
     "output_type": "stream",
     "text": [
      "[0.9148235294117647, 7776, 8500]\n"
     ]
    }
   ],
   "source": [
    "eva('GNB')"
   ]
  },
  {
   "cell_type": "code",
   "execution_count": null,
   "metadata": {},
   "outputs": [],
   "source": []
  }
 ],
 "metadata": {
  "kernelspec": {
   "display_name": "Python 3",
   "language": "python",
   "name": "python3"
  },
  "language_info": {
   "codemirror_mode": {
    "name": "ipython",
    "version": 3
   },
   "file_extension": ".py",
   "mimetype": "text/x-python",
   "name": "python",
   "nbconvert_exporter": "python",
   "pygments_lexer": "ipython3",
   "version": "3.5.2"
  }
 },
 "nbformat": 4,
 "nbformat_minor": 2
}
