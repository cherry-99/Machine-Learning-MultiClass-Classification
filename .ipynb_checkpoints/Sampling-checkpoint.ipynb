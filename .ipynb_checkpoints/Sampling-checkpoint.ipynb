{
 "cells": [
  {
   "cell_type": "code",
   "execution_count": 36,
   "metadata": {},
   "outputs": [],
   "source": [
    "import pandas as pd\n",
    "import numpy as np\n",
    "from sklearn.feature_selection import SelectKBest\n",
    "from sklearn.feature_selection import chi2"
   ]
  },
  {
   "cell_type": "code",
   "execution_count": 31,
   "metadata": {},
   "outputs": [],
   "source": [
    "working_csv = df1 = pd.read_csv(\"psychroplanet.csv\")     # 18 rows , 46 columns.\n",
    "df2 = pd.read_csv(\"mesoplanet.csv\")                      # 31 rows , 46 columns\n",
    "df3 = pd.read_csv(\"non-habitable.csv\")                   # 3820 rows , 46 columns"
   ]
  },
  {
   "cell_type": "code",
   "execution_count": 32,
   "metadata": {},
   "outputs": [],
   "source": [
    "temp1 = df2.sample(n = 18 , replace = False)\n",
    "temp2 = df3.sample(n = 18 , replace = False)\n",
    "\n",
    "# This is to obtain a random sample of size 18 from the other two datasets and create a new dataset upon which \n",
    "# we will build the model."
   ]
  },
  {
   "cell_type": "code",
   "execution_count": 34,
   "metadata": {},
   "outputs": [],
   "source": [
    "working_csv = working_csv.append(temp1 , ignore_index = True)\n",
    "working_csv = working_csv.append(temp2 , ignore_index = True)\n",
    "\n",
    "# Don't run this cell over and over again , it will create a sample size greater than 54.\n",
    "\n",
    "# Now in the variable working_csv we have a sample of size 54 (18 x 3) , giving a equal representation of all the\n",
    "# classes. We have to build 500 such sample and run our models for 500 iterations over each sample."
   ]
  },
  {
   "cell_type": "code",
   "execution_count": 38,
   "metadata": {},
   "outputs": [
    {
     "name": "stdout",
     "output_type": "stream",
     "text": [
      "90\n"
     ]
    }
   ],
   "source": [
    "print(len(working_csv))\n",
    "#The output should always be 54 (Length or number of rows)"
   ]
  },
  {
   "cell_type": "code",
   "execution_count": 45,
   "metadata": {},
   "outputs": [],
   "source": [
    "# Before bulding the model , we have 48 columns. We have to rank the columns in order of their influence of the\n",
    "# on the class label.\n",
    "\n",
    "# Target variable : P. Habitable Class\n"
   ]
  }
 ],
 "metadata": {
  "kernelspec": {
   "display_name": "Python 3",
   "language": "python",
   "name": "python3"
  },
  "language_info": {
   "codemirror_mode": {
    "name": "ipython",
    "version": 3
   },
   "file_extension": ".py",
   "mimetype": "text/x-python",
   "name": "python",
   "nbconvert_exporter": "python",
   "pygments_lexer": "ipython3",
   "version": "3.6.8"
  }
 },
 "nbformat": 4,
 "nbformat_minor": 2
}
