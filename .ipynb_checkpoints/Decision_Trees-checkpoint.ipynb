{
 "cells": [
  {
   "cell_type": "code",
   "execution_count": 33,
   "metadata": {},
   "outputs": [],
   "source": [
    "import pandas as pd\n",
    "import numpy as np\n",
    "import math"
   ]
  },
  {
   "cell_type": "code",
   "execution_count": 34,
   "metadata": {},
   "outputs": [],
   "source": [
    "def class_counts(rows):\n",
    "    counts = {}\n",
    "    for row in rows:\n",
    "        label = row[-1]\n",
    "        if label not in counts:\n",
    "            counts[label] = 0\n",
    "        counts[label] += 1\n",
    "    return counts"
   ]
  },
  {
   "cell_type": "code",
   "execution_count": 35,
   "metadata": {},
   "outputs": [],
   "source": [
    "def gini(rows):\n",
    "    counts = class_counts(rows)\n",
    "    impurity = 1\n",
    "    for label in counts:\n",
    "        prob_of_label = counts[label] / float(len(rows))\n",
    "        impurity -= prob_of_label**2\n",
    "    return impurity"
   ]
  },
  {
   "cell_type": "code",
   "execution_count": 36,
   "metadata": {},
   "outputs": [],
   "source": [
    "def info_gain(left, right, current_uncertainty):\n",
    "    p = float(len(left)) / (len(left) + len(right))\n",
    "    return current_uncertainty - p * gini(left) - (1 - p) * gini(right)"
   ]
  },
  {
   "cell_type": "code",
   "execution_count": 37,
   "metadata": {},
   "outputs": [],
   "source": [
    "def is_numeric(value):\n",
    "    return isinstance(value, int) or isinstance(value, float)"
   ]
  },
  {
   "cell_type": "code",
   "execution_count": 38,
   "metadata": {},
   "outputs": [],
   "source": [
    "class Rule:\n",
    "    def __init__(self, column, value):\n",
    "        self.column = column\n",
    "        self.value = value\n",
    "        \n",
    "    def __repr__(self):\n",
    "        condition = \"==\"\n",
    "        if is_numeric(self.value):\n",
    "            condition = \">=\"\n",
    "        return \"Is %s %s %s?\" % (header[self.column], condition, str(self.value))\n",
    "\n",
    "    def match(self, example):\n",
    "        val = example[self.column]\n",
    "        try:\n",
    "            if is_numeric(val):\n",
    "                return val >= self.value\n",
    "            else:\n",
    "                return val == self.value\n",
    "        except TypeError:\n",
    "            return 'nan'\n"
   ]
  },
  {
   "cell_type": "code",
   "execution_count": 39,
   "metadata": {},
   "outputs": [],
   "source": [
    "def build_stump(rows, rule):\n",
    "    true_rows, false_rows = [], []\n",
    "    for row in rows:\n",
    "        if isinstance(row[rule.column],float) and math.isnan(row[rule.column]):\n",
    "            continue\n",
    "        if rule.match(row):\n",
    "            true_rows.append(row)\n",
    "        else:\n",
    "            false_rows.append(row)\n",
    "    return true_rows, false_rows"
   ]
  },
  {
   "cell_type": "code",
   "execution_count": 40,
   "metadata": {},
   "outputs": [],
   "source": [
    "def find_best_split(rows):\n",
    "    best_gain = 0\n",
    "    best_rule = None\n",
    "    current_uncertainty = gini(rows)\n",
    "    n_features = len(rows[0]) - 1\n",
    "\n",
    "    for col in range(n_features):\n",
    "        values = set([row[col] for row in rows])\n",
    "        for val in values:\n",
    "            rule = Rule(col, val)\n",
    "            true_rows, false_rows = build_stump(rows, rule)\n",
    "\n",
    "            if len(true_rows) == 0 or len(false_rows) == 0:\n",
    "                continue\n",
    "\n",
    "            gain = info_gain(true_rows, false_rows, current_uncertainty)\n",
    "            if gain >= best_gain:\n",
    "                best_gain, best_rule = gain, rule\n",
    "\n",
    "    return best_gain, best_rule"
   ]
  },
  {
   "cell_type": "code",
   "execution_count": 41,
   "metadata": {},
   "outputs": [],
   "source": [
    "class Leaf:\n",
    "    def __init__(self, rows):\n",
    "        val = class_counts(rows)\n",
    "        itemMax = max(val.items(), key=lambda x : x[1])\n",
    "        self.predictions = itemMax[0]"
   ]
  },
  {
   "cell_type": "code",
   "execution_count": 42,
   "metadata": {},
   "outputs": [],
   "source": [
    "class Decision_Node:\n",
    "    def __init__(self,rule,true_branch,false_branch):\n",
    "        self.rule = rule\n",
    "        self.true_branch = true_branch\n",
    "        self.false_branch = false_branch"
   ]
  },
  {
   "cell_type": "code",
   "execution_count": 51,
   "metadata": {},
   "outputs": [],
   "source": [
    "def build_tree(rows, max_depth = 10, depth = 0):\n",
    "    gain, rule = find_best_split(rows)\n",
    "    if gain == 0 or depth >= max_depth:\n",
    "        return Leaf(rows)\n",
    "    true_rows, false_rows = build_stump(rows, rule)\n",
    "    true_branch = build_tree(true_rows, max_depth, depth+1)\n",
    "    false_branch = build_tree(false_rows, max_depth, depth+1)\n",
    "    return Decision_Node(rule, true_branch, false_branch)"
   ]
  },
  {
   "cell_type": "code",
   "execution_count": 44,
   "metadata": {},
   "outputs": [],
   "source": [
    "def print_tree(node, spacing=\"\"):\n",
    "    if isinstance(node, Leaf):\n",
    "        print (spacing + \"└── Predict\", node.predictions)\n",
    "        return\n",
    "    print (spacing + str(node.rule))\n",
    "\n",
    "    print (spacing + '├── True:')\n",
    "    print_tree(node.true_branch, spacing + \"|  \")\n",
    "\n",
    "    print (spacing + '├── False:')\n",
    "    print_tree(node.false_branch, spacing + \"|  \")"
   ]
  },
  {
   "cell_type": "code",
   "execution_count": 45,
   "metadata": {},
   "outputs": [],
   "source": [
    "def classify(row, node):\n",
    "    if isinstance(node, Leaf):\n",
    "        return node.predictions\n",
    "\n",
    "    if node.rule.match(row):\n",
    "        return classify(row, node.true_branch)\n",
    "    else:\n",
    "        return classify(row, node.false_branch)"
   ]
  },
  {
   "cell_type": "code",
   "execution_count": 54,
   "metadata": {
    "scrolled": true
   },
   "outputs": [
    {
     "name": "stdout",
     "output_type": "stream",
     "text": [
      "[[ 4  0  0]\n",
      " [ 0 10  0]\n",
      " [ 0  0  3]]\n",
      "               precision    recall  f1-score   support\n",
      "\n",
      "   mesoplanet       1.00      1.00      1.00         4\n",
      "non-habitable       1.00      1.00      1.00        10\n",
      "psychroplanet       1.00      1.00      1.00         3\n",
      "\n",
      "     accuracy                           1.00        17\n",
      "    macro avg       1.00      1.00      1.00        17\n",
      " weighted avg       1.00      1.00      1.00        17\n",
      "\n"
     ]
    }
   ],
   "source": [
    "#testing only \n",
    "\n",
    "df = pd.read_csv(\"Datasets/working_csv7.csv\")\n",
    "Y = df[\"P. Habitable Class\"]\n",
    "X = df.drop(\"P. Habitable Class\",axis=1)\n",
    "header = list(df.columns)\n",
    "\n",
    "from sklearn.model_selection import train_test_split\n",
    "X_train, X_test, Y_train, Y_test = train_test_split(X, Y, test_size=0.30)\n",
    "\n",
    "X_train_list = X_train.values.tolist()\n",
    "X_test_list = X_test.values.tolist()\n",
    "Y_train_list = Y_train.values.tolist()\n",
    "Y_test_list = Y_test.values.tolist()\n",
    "    \n",
    "training_data = list(map(lambda x:x[0]+[x[1]],zip(X_train_list,Y_train_list)))\n",
    "testing_data = list(map(lambda x:x[0]+[x[1]],zip(X_test_list,Y_test_list)))\n",
    "\n",
    "my_tree = build_tree(training_data,3)\n",
    "\n",
    "y_pred = []\n",
    "y_test = []\n",
    "\n",
    "for i,row in enumerate(testing_data):\n",
    "#     print (\"Actual: %s. Predicted: %s\" % (row[-1], print_leaf(classify(row, my_tree))))\n",
    "    val = classify(row,my_tree)\n",
    "    \n",
    "    y_test.append(row[-1])\n",
    "#     y_pred.append(list(val.keys())[0])\n",
    "    y_pred.append(val)\n",
    "\n",
    "from sklearn.metrics import classification_report, confusion_matrix\n",
    "print(confusion_matrix(y_test, y_pred))\n",
    "print(classification_report(y_test, y_pred))"
   ]
  },
  {
   "cell_type": "code",
   "execution_count": null,
   "metadata": {
    "scrolled": true
   },
   "outputs": [],
   "source": [
    "#evaluate model on all 500 datasets\n",
    "\n",
    "from sklearn.model_selection import train_test_split\n",
    "from functools import reduce\n",
    "scores = []\n",
    "for i in range(500):\n",
    "    df = pd.read_csv(\"Datasets/working_csv\"+str(i)+\".csv\")\n",
    "    Y = df[\"P. Habitable Class\"]\n",
    "    X = df.drop(\"P. Habitable Class\",axis=1)\n",
    "\n",
    "    header = list(df.columns)\n",
    "\n",
    "    X_train, X_test, Y_train, Y_test = train_test_split(X, Y, test_size=0.30)\n",
    "\n",
    "    X_train_list = X_train.values.tolist()\n",
    "    X_test_list = X_test.values.tolist()\n",
    "    Y_train_list = Y_train.values.tolist()\n",
    "    Y_test_list = Y_test.values.tolist()\n",
    "\n",
    "    training_data = list(map(lambda x:x[0]+[x[1]],zip(X_train_list,Y_train_list)))\n",
    "    testing_data = list(map(lambda x:x[0]+[x[1]],zip(X_test_list,Y_test_list)))\n",
    "    \n",
    "    my_tree = build_tree(training_data)\n",
    "    \n",
    "    y_pred = []\n",
    "    \n",
    "    count = 0\n",
    "    for i,row in enumerate(testing_data):\n",
    "    #     print (\"Actual: %s. Predicted: %s\" % (row[-1], print_leaf(classify(row, my_tree))))\n",
    "        val = classify(row,my_tree)\n",
    "        label = val\n",
    "        if label == Y_test_list[i]:\n",
    "            count += 1\n",
    "    scores.append([count/len(Y_test_list),count,len(Y_test_list)])\n",
    "test_df = pd.DataFrame(scores, columns=[\"Accuracy\", \"right\", \"total\"])\n",
    "print(reduce(lambda x,y: [(x[1]+y[1])/(x[2]+y[2]),(x[1]+y[1]),(x[2]+y[2])],scores))\n",
    "test_df"
   ]
  },
  {
   "cell_type": "code",
   "execution_count": 55,
   "metadata": {
    "scrolled": true
   },
   "outputs": [
    {
     "name": "stdout",
     "output_type": "stream",
     "text": [
      "Is P. HZD >= -0.39?\n",
      "├── True:\n",
      "|  Is P. ESI >= 0.53?\n",
      "|  ├── True:\n",
      "|  |  └── Predict psychroplanet\n",
      "|  ├── False:\n",
      "|  |  └── Predict non-habitable\n",
      "├── False:\n",
      "|  Is P. SPH >= 0.02?\n",
      "|  ├── True:\n",
      "|  |  └── Predict mesoplanet\n",
      "|  ├── False:\n",
      "|  |  Is P. Habitable >= 1?\n",
      "|  |  ├── True:\n",
      "|  |  |  └── Predict psychroplanet\n",
      "|  |  ├── False:\n",
      "|  |  |  └── Predict non-habitable\n"
     ]
    }
   ],
   "source": [
    "print_tree(my_tree)"
   ]
  },
  {
   "cell_type": "code",
   "execution_count": null,
   "metadata": {},
   "outputs": [],
   "source": []
  }
 ],
 "metadata": {
  "kernelspec": {
   "display_name": "Python 3",
   "language": "python",
   "name": "python3"
  },
  "language_info": {
   "codemirror_mode": {
    "name": "ipython",
    "version": 3
   },
   "file_extension": ".py",
   "mimetype": "text/x-python",
   "name": "python",
   "nbconvert_exporter": "python",
   "pygments_lexer": "ipython3",
   "version": "3.5.2"
  }
 },
 "nbformat": 4,
 "nbformat_minor": 2
}
