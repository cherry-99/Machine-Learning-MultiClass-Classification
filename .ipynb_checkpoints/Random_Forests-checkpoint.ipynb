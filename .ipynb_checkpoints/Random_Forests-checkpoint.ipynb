{
 "cells": [
  {
   "cell_type": "code",
   "execution_count": 1,
   "metadata": {},
   "outputs": [],
   "source": [
    "import pandas as pd\n",
    "import numpy as np\n",
    "import math\n",
    "from random import randrange"
   ]
  },
  {
   "cell_type": "code",
   "execution_count": 2,
   "metadata": {},
   "outputs": [],
   "source": [
    "def class_counts(rows):\n",
    "    counts = {}\n",
    "    for row in rows:\n",
    "        label = row[-1]\n",
    "        if label not in counts:\n",
    "            counts[label] = 0\n",
    "        counts[label] += 1\n",
    "    return counts"
   ]
  },
  {
   "cell_type": "code",
   "execution_count": 3,
   "metadata": {},
   "outputs": [],
   "source": [
    "def gini(rows):\n",
    "    counts = class_counts(rows)\n",
    "    impurity = 1\n",
    "    for label in counts:\n",
    "        prob_of_label = counts[label] / float(len(rows))\n",
    "        impurity -= prob_of_label**2\n",
    "    return impurity"
   ]
  },
  {
   "cell_type": "code",
   "execution_count": 4,
   "metadata": {},
   "outputs": [],
   "source": [
    "def info_gain(left, right, current_uncertainty):\n",
    "    p = float(len(left)) / (len(left) + len(right))\n",
    "    return current_uncertainty - p * gini(left) - (1 - p) * gini(right)"
   ]
  },
  {
   "cell_type": "code",
   "execution_count": 5,
   "metadata": {},
   "outputs": [],
   "source": [
    "def is_numeric(value):\n",
    "    return isinstance(value, int) or isinstance(value, float)"
   ]
  },
  {
   "cell_type": "code",
   "execution_count": 6,
   "metadata": {},
   "outputs": [],
   "source": [
    "class Rule:\n",
    "    def __init__(self, column, value):\n",
    "        self.column = column\n",
    "        self.value = value\n",
    "        \n",
    "    def __repr__(self):\n",
    "        condition = \"==\"\n",
    "        if is_numeric(self.value):\n",
    "            condition = \">=\"\n",
    "        return \"Is %s %s %s?\" % (header[self.column], condition, str(self.value))\n",
    "\n",
    "    def match(self, example):\n",
    "        val = example[self.column]\n",
    "        try:\n",
    "            if is_numeric(val):\n",
    "                return val >= self.value\n",
    "            else:\n",
    "                return val == self.value\n",
    "        except TypeError:\n",
    "            return 'nan'\n"
   ]
  },
  {
   "cell_type": "code",
   "execution_count": 7,
   "metadata": {},
   "outputs": [],
   "source": [
    "def build_stump(rows, rule):\n",
    "    true_rows, false_rows = [], []\n",
    "    for row in rows:\n",
    "        if isinstance(row[rule.column],float) and math.isnan(row[rule.column]):\n",
    "            continue\n",
    "        if rule.match(row):\n",
    "            true_rows.append(row)\n",
    "        else:\n",
    "            false_rows.append(row)\n",
    "    return true_rows, false_rows"
   ]
  },
  {
   "cell_type": "code",
   "execution_count": 8,
   "metadata": {},
   "outputs": [],
   "source": [
    "def find_split(rows,n_features):\n",
    "    best_gain = 0\n",
    "    best_rule = None\n",
    "    current_uncertainty = gini(rows)\n",
    "    total_features = len(rows[0]) - 1\n",
    "    \n",
    "    if n_features is None:\n",
    "        feature_list = range(total_features)\n",
    "    else:\n",
    "        feature_list = np.random.choice(range(total_features), n_features, replace=False)\n",
    "\n",
    "    for col in feature_list:\n",
    "        values = set([row[col] for row in rows])\n",
    "        for val in values:\n",
    "            rule = Rule(col, val)\n",
    "            true_rows, false_rows = build_stump(rows, rule)\n",
    "\n",
    "            if len(true_rows) == 0 or len(false_rows) == 0:\n",
    "                continue\n",
    "\n",
    "            gain = info_gain(true_rows, false_rows, current_uncertainty)\n",
    "            if gain >= best_gain:\n",
    "                best_gain, best_rule = gain, rule\n",
    "\n",
    "    return best_gain, best_rule"
   ]
  },
  {
   "cell_type": "code",
   "execution_count": 9,
   "metadata": {},
   "outputs": [],
   "source": [
    "class Leaf:\n",
    "    def __init__(self, rows):\n",
    "        val = class_counts(rows)\n",
    "        itemMax = max(val.items(), key=lambda x : x[1])\n",
    "        self.predictions = itemMax[0]"
   ]
  },
  {
   "cell_type": "code",
   "execution_count": 10,
   "metadata": {},
   "outputs": [],
   "source": [
    "class Decision_Node:\n",
    "    def __init__(self,rule,true_branch,false_branch):\n",
    "        self.rule = rule\n",
    "        self.true_branch = true_branch\n",
    "        self.false_branch = false_branch"
   ]
  },
  {
   "cell_type": "code",
   "execution_count": 11,
   "metadata": {},
   "outputs": [],
   "source": [
    "def build_tree(rows, max_depth = 10, n_features = None, depth = 0):\n",
    "    gain, rule = find_split(rows, n_features)\n",
    "    if gain == 0 or depth >= max_depth:\n",
    "        return Leaf(rows)\n",
    "    true_rows, false_rows = build_stump(rows, rule)\n",
    "    true_branch = build_tree(true_rows, max_depth, n_features, depth+1)\n",
    "    false_branch = build_tree(false_rows, max_depth, n_features, depth+1)\n",
    "    return Decision_Node(rule, true_branch, false_branch)"
   ]
  },
  {
   "cell_type": "code",
   "execution_count": 12,
   "metadata": {},
   "outputs": [],
   "source": [
    "def subsample(dataset, ratio):\n",
    "    sample = list()\n",
    "    n_sample = round(len(dataset) * ratio)\n",
    "    while len(sample) < n_sample:\n",
    "        index = randrange(len(dataset))\n",
    "        sample.append(dataset[index])\n",
    "    return sample"
   ]
  },
  {
   "cell_type": "code",
   "execution_count": 13,
   "metadata": {},
   "outputs": [],
   "source": [
    "def build_random_forest(rows, max_depth, sample_size, n_trees, n_features):\n",
    "    trees = list()\n",
    "    for i in range(n_trees):\n",
    "        sample = subsample(rows, sample_size)\n",
    "        tree = build_tree(sample, max_depth, n_features)\n",
    "        trees.append(tree)\n",
    "    return trees"
   ]
  },
  {
   "cell_type": "code",
   "execution_count": 15,
   "metadata": {},
   "outputs": [],
   "source": [
    "def predict(row, node):\n",
    "    if isinstance(node, Leaf):\n",
    "        return node.predictions\n",
    "\n",
    "    if node.rule.match(row):\n",
    "        return predict(row, node.true_branch)\n",
    "    else:\n",
    "        return predict(row, node.false_branch)"
   ]
  },
  {
   "cell_type": "code",
   "execution_count": 16,
   "metadata": {},
   "outputs": [],
   "source": [
    "def bagging_predict(row, trees):\n",
    "    predictions = [predict(row, tree) for tree in trees]\n",
    "    return max(set(predictions), key=predictions.count)"
   ]
  },
  {
   "cell_type": "code",
   "execution_count": 14,
   "metadata": {},
   "outputs": [],
   "source": [
    "def print_tree(node, spacing=\"\"):\n",
    "    if isinstance(node, Leaf):\n",
    "        print (spacing + \"└── Predict\", node.predictions)\n",
    "        return\n",
    "    print (spacing + str(node.rule))\n",
    "\n",
    "    print (spacing + '├── True:')\n",
    "    print_tree(node.true_branch, spacing + \"|  \")\n",
    "\n",
    "    print (spacing + '├── False:')\n",
    "    print_tree(node.false_branch, spacing + \"|  \")"
   ]
  },
  {
   "cell_type": "code",
   "execution_count": 1,
   "metadata": {
    "scrolled": true
   },
   "outputs": [
    {
     "ename": "NameError",
     "evalue": "name 'pd' is not defined",
     "output_type": "error",
     "traceback": [
      "\u001b[0;31m---------------------------------------------------------------------------\u001b[0m",
      "\u001b[0;31mNameError\u001b[0m                                 Traceback (most recent call last)",
      "\u001b[0;32m<ipython-input-1-e8e46786c41a>\u001b[0m in \u001b[0;36m<module>\u001b[0;34m\u001b[0m\n\u001b[1;32m      1\u001b[0m \u001b[0;31m#testing only\u001b[0m\u001b[0;34m\u001b[0m\u001b[0;34m\u001b[0m\u001b[0m\n\u001b[1;32m      2\u001b[0m \u001b[0;34m\u001b[0m\u001b[0m\n\u001b[0;32m----> 3\u001b[0;31m \u001b[0mdf\u001b[0m \u001b[0;34m=\u001b[0m \u001b[0mpd\u001b[0m\u001b[0;34m.\u001b[0m\u001b[0mread_csv\u001b[0m\u001b[0;34m(\u001b[0m\u001b[0;34m\"Datasets/working_csv7.csv\"\u001b[0m\u001b[0;34m)\u001b[0m\u001b[0;34m\u001b[0m\u001b[0m\n\u001b[0m\u001b[1;32m      4\u001b[0m \u001b[0mY\u001b[0m \u001b[0;34m=\u001b[0m \u001b[0mdf\u001b[0m\u001b[0;34m[\u001b[0m\u001b[0;34m\"P. Habitable Class\"\u001b[0m\u001b[0;34m]\u001b[0m\u001b[0;34m\u001b[0m\u001b[0m\n\u001b[1;32m      5\u001b[0m \u001b[0mX\u001b[0m \u001b[0;34m=\u001b[0m \u001b[0mdf\u001b[0m\u001b[0;34m.\u001b[0m\u001b[0mdrop\u001b[0m\u001b[0;34m(\u001b[0m\u001b[0;34m\"P. Habitable Class\"\u001b[0m\u001b[0;34m,\u001b[0m\u001b[0maxis\u001b[0m\u001b[0;34m=\u001b[0m\u001b[0;36m1\u001b[0m\u001b[0;34m)\u001b[0m\u001b[0;34m\u001b[0m\u001b[0m\n",
      "\u001b[0;31mNameError\u001b[0m: name 'pd' is not defined"
     ]
    }
   ],
   "source": [
    "#testing only \n",
    "\n",
    "df = pd.read_csv(\"Datasets/working_csv7.csv\")\n",
    "Y = df[\"P. Habitable Class\"]\n",
    "X = df.drop(\"P. Habitable Class\",axis=1)\n",
    "header = list(df.columns)\n",
    "\n",
    "from sklearn.model_selection import train_test_split\n",
    "X_train, X_test, Y_train, Y_test = train_test_split(X, Y, test_size=0.30)\n",
    "\n",
    "X_train_list = X_train.values.tolist()\n",
    "X_test_list = X_test.values.tolist()\n",
    "Y_train_list = Y_train.values.tolist()\n",
    "Y_test_list = Y_test.values.tolist()\n",
    "    \n",
    "training_data = list(map(lambda x:x[0]+[x[1]],zip(X_train_list,Y_train_list)))\n",
    "testing_data = list(map(lambda x:x[0]+[x[1]],zip(X_test_list,Y_test_list)))\n",
    "\n",
    "max_depth = 10\n",
    "sample_size = 1.0\n",
    "n_trees = 15\n",
    "n_features = int(math.sqrt(len(training_data[0])-1))\n",
    "\n",
    "my_forest = build_random_forest(training_data,max_depth,sample_size,n_trees,n_features)\n",
    "\n",
    "y_pred = []\n",
    "y_test = []\n",
    "\n",
    "for row in testing_data:\n",
    "    val = bagging_predict(row,my_forest)\n",
    "    \n",
    "    y_test.append(row[-1])\n",
    "    y_pred.append(val)\n",
    "\n",
    "from sklearn.metrics import classification_report, confusion_matrix\n",
    "print(confusion_matrix(y_test, y_pred))\n",
    "print(classification_report(y_test, y_pred))"
   ]
  },
  {
   "cell_type": "code",
   "execution_count": 17,
   "metadata": {},
   "outputs": [],
   "source": [
    "#evaluate model on all 500 datasets\n",
    "\n",
    "from sklearn.model_selection import train_test_split\n",
    "\n",
    "pred_labels = []\n",
    "actual_labels = []\n",
    "\n",
    "for i in range(500):\n",
    "    df = pd.read_csv(\"Datasets/working_csv\"+str(i)+\".csv\")\n",
    "    Y = df[\"P. Habitable Class\"]\n",
    "    X = df.drop(\"P. Habitable Class\",axis=1)\n",
    "\n",
    "    header = list(df.columns)\n",
    "\n",
    "    X_train, X_test, Y_train, Y_test = train_test_split(X, Y, test_size=0.30)\n",
    "\n",
    "    X_train_list = X_train.values.tolist()\n",
    "    X_test_list = X_test.values.tolist()\n",
    "    Y_train_list = Y_train.values.tolist()\n",
    "    Y_test_list = Y_test.values.tolist()\n",
    "\n",
    "    training_data = list(map(lambda x:x[0]+[x[1]],zip(X_train_list,Y_train_list)))\n",
    "    testing_data = list(map(lambda x:x[0]+[x[1]],zip(X_test_list,Y_test_list)))\n",
    "    \n",
    "    max_depth = 10\n",
    "    sample_size = 1.0\n",
    "    n_trees = 50\n",
    "    n_features = int(math.sqrt(len(training_data[0])-1))\n",
    "\n",
    "    my_forest = build_random_forest(training_data,max_depth,sample_size,n_trees,n_features)\n",
    "    \n",
    "    actual_labels += Y_test_list\n",
    "    \n",
    "    for row in testing_data:\n",
    "        pred_labels.append(bagging_predict(row,my_forest))\n",
    "        "
   ]
  },
  {
   "cell_type": "code",
   "execution_count": 19,
   "metadata": {
    "scrolled": true
   },
   "outputs": [
    {
     "name": "stdout",
     "output_type": "stream",
     "text": [
      "[[96.52  0.35  3.12]\n",
      " [ 1.27 94.16  4.58]\n",
      " [ 3.87  2.64 93.49]]\n",
      "               precision    recall  f1-score   support\n",
      "\n",
      "   mesoplanet       0.95      0.97      0.96      2819\n",
      "non-habitable       0.97      0.94      0.96      2841\n",
      "psychroplanet       0.92      0.93      0.93      2840\n",
      "\n",
      "     accuracy                           0.95      8500\n",
      "    macro avg       0.95      0.95      0.95      8500\n",
      " weighted avg       0.95      0.95      0.95      8500\n",
      "\n"
     ]
    }
   ],
   "source": [
    "from sklearn.metrics import classification_report, confusion_matrix\n",
    "cm = confusion_matrix(actual_labels, pred_labels)\n",
    "cm_normalized = cm.astype('float') * 100/ cm.sum(axis=1)[:, np.newaxis]\n",
    "\n",
    "print(np.around(cm_normalized,2))\n",
    "print(classification_report(actual_labels, pred_labels))"
   ]
  },
  {
   "cell_type": "code",
   "execution_count": 21,
   "metadata": {
    "scrolled": true
   },
   "outputs": [
    {
     "name": "stdout",
     "output_type": "stream",
     "text": [
      "Is S. Mag from Planet >= -26.4?\n",
      "├── True:\n",
      "|  Is P. Name == GJ 422 b?\n",
      "|  ├── True:\n",
      "|  |  └── Predict mesoplanet\n",
      "|  ├── False:\n",
      "|  |  └── Predict psychroplanet\n",
      "├── False:\n",
      "|  Is P. HZC >= 2.45?\n",
      "|  ├── True:\n",
      "|  |  └── Predict non-habitable\n",
      "|  ├── False:\n",
      "|  |  Is P. Habitable >= 1?\n",
      "|  |  ├── True:\n",
      "|  |  |  └── Predict mesoplanet\n",
      "|  |  ├── False:\n",
      "|  |  |  └── Predict non-habitable\n",
      "\n",
      "Is P. SPH >= 0.17?\n",
      "├── True:\n",
      "|  └── Predict mesoplanet\n",
      "├── False:\n",
      "|  Is P. SFlux Max (EU) >= 3.203192?\n",
      "|  ├── True:\n",
      "|  |  └── Predict non-habitable\n",
      "|  ├── False:\n",
      "|  |  └── Predict psychroplanet\n",
      "\n",
      "Is P. SFlux Max (EU) >= 0.7529996999999999?\n",
      "├── True:\n",
      "|  Is P. SFlux Min (EU) >= 3.203191?\n",
      "|  ├── True:\n",
      "|  |  └── Predict non-habitable\n",
      "|  ├── False:\n",
      "|  |  Is S. RA (hrs) >= 1.7344?\n",
      "|  |  ├── True:\n",
      "|  |  |  └── Predict mesoplanet\n",
      "|  |  ├── False:\n",
      "|  |  |  └── Predict psychroplanet\n",
      "├── False:\n",
      "|  └── Predict psychroplanet\n",
      "\n",
      "Is P. Mag >= -18.9?\n",
      "├── True:\n",
      "|  Is P. SFlux Min (EU) >= 0.6584886?\n",
      "|  ├── True:\n",
      "|  |  └── Predict mesoplanet\n",
      "|  ├── False:\n",
      "|  |  └── Predict psychroplanet\n",
      "├── False:\n",
      "|  └── Predict non-habitable\n",
      "\n",
      "Is P. Zone Class == Hot?\n",
      "├── True:\n",
      "|  └── Predict non-habitable\n",
      "├── False:\n",
      "|  Is P. SPH >= 0.11?\n",
      "|  ├── True:\n",
      "|  |  └── Predict mesoplanet\n",
      "|  ├── False:\n",
      "|  |  └── Predict psychroplanet\n",
      "\n",
      "Is P. HZD >= -0.39?\n",
      "├── True:\n",
      "|  └── Predict psychroplanet\n",
      "├── False:\n",
      "|  Is P. Habitable >= 1?\n",
      "|  ├── True:\n",
      "|  |  └── Predict mesoplanet\n",
      "|  ├── False:\n",
      "|  |  └── Predict non-habitable\n",
      "\n",
      "Is P. SFlux Max (EU) >= 3.203192?\n",
      "├── True:\n",
      "|  └── Predict non-habitable\n",
      "├── False:\n",
      "|  Is P. Teq Max (K) >= 249.0?\n",
      "|  ├── True:\n",
      "|  |  Is P. Eccentricity >= 0.29?\n",
      "|  |  ├── True:\n",
      "|  |  |  └── Predict psychroplanet\n",
      "|  |  ├── False:\n",
      "|  |  |  └── Predict mesoplanet\n",
      "|  ├── False:\n",
      "|  |  └── Predict psychroplanet\n",
      "\n",
      "Is P. Teq Max (K) >= 248.3?\n",
      "├── True:\n",
      "|  Is P. Habitable >= 1?\n",
      "|  ├── True:\n",
      "|  |  └── Predict mesoplanet\n",
      "|  ├── False:\n",
      "|  |  └── Predict non-habitable\n",
      "├── False:\n",
      "|  └── Predict psychroplanet\n",
      "\n",
      "Is P. Habitable >= 1?\n",
      "├── True:\n",
      "|  Is P. SFlux Max (EU) >= 0.7529996999999999?\n",
      "|  ├── True:\n",
      "|  |  └── Predict mesoplanet\n",
      "|  ├── False:\n",
      "|  |  └── Predict psychroplanet\n",
      "├── False:\n",
      "|  Is P. Gravity (EU) >= 0.77?\n",
      "|  ├── True:\n",
      "|  |  └── Predict non-habitable\n",
      "|  ├── False:\n",
      "|  |  └── Predict psychroplanet\n",
      "\n",
      "Is P. ESI >= 0.53?\n",
      "├── True:\n",
      "|  Is P. HZD >= -0.39?\n",
      "|  ├── True:\n",
      "|  |  └── Predict psychroplanet\n",
      "|  ├── False:\n",
      "|  |  Is P. Density (EU) >= 0.9?\n",
      "|  |  ├── True:\n",
      "|  |  |  └── Predict mesoplanet\n",
      "|  |  ├── False:\n",
      "|  |  |  └── Predict psychroplanet\n",
      "├── False:\n",
      "|  └── Predict non-habitable\n",
      "\n"
     ]
    }
   ],
   "source": [
    "for my_tree in my_forest:\n",
    "    print_tree(my_tree)\n",
    "    print()"
   ]
  }
 ],
 "metadata": {
  "kernelspec": {
   "display_name": "Python 3",
   "language": "python",
   "name": "python3"
  },
  "language_info": {
   "codemirror_mode": {
    "name": "ipython",
    "version": 3
   },
   "file_extension": ".py",
   "mimetype": "text/x-python",
   "name": "python",
   "nbconvert_exporter": "python",
   "pygments_lexer": "ipython3",
   "version": "3.5.2"
  }
 },
 "nbformat": 4,
 "nbformat_minor": 2
}
