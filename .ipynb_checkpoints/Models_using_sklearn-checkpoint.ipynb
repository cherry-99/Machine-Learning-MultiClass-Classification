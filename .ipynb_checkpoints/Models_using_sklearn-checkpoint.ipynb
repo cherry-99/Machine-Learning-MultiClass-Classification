{
 "cells": [
  {
   "cell_type": "code",
   "execution_count": 2,
   "metadata": {},
   "outputs": [],
   "source": [
    "import pandas as pd\n",
    "import numpy as np\n",
    "from sklearn.model_selection import train_test_split"
   ]
  },
  {
   "cell_type": "code",
   "execution_count": 3,
   "metadata": {},
   "outputs": [],
   "source": [
    "def DecisionTrees(X_train, X_test, Y_train):\n",
    "    from sklearn.tree import DecisionTreeClassifier\n",
    "    classifier = DecisionTreeClassifier()\n",
    "    classifier.fit(X_train, Y_train)\n",
    "    \n",
    "    y_pred = classifier.predict(X_test)\n",
    "    return y_pred"
   ]
  },
  {
   "cell_type": "code",
   "execution_count": 4,
   "metadata": {},
   "outputs": [],
   "source": [
    "def svm(X_train, X_test, Y_train):\n",
    "    from sklearn.svm import SVC\n",
    "    svclassifier = SVC(kernel='linear')\n",
    "    svclassifier.fit(X_train, Y_train)\n",
    "    \n",
    "    y_pred = svclassifier.predict(X_test)\n",
    "    return y_pred"
   ]
  },
  {
   "cell_type": "code",
   "execution_count": 5,
   "metadata": {},
   "outputs": [],
   "source": [
    "def KNN(X_train, X_test, Y_train):\n",
    "    \n",
    "    from sklearn.neighbors import KNeighborsClassifier\n",
    "\n",
    "    knn = KNeighborsClassifier(n_neighbors=8)\n",
    "    knn.fit(X_train,Y_train)\n",
    "    y_pred = knn.predict(X_test)\n",
    "    return y_pred"
   ]
  },
  {
   "cell_type": "code",
   "execution_count": 6,
   "metadata": {},
   "outputs": [],
   "source": [
    "def GNB(X_train, X_test, Y_train):\n",
    "    \n",
    "    from sklearn.naive_bayes import GaussianNB\n",
    "    gnb = GaussianNB()\n",
    "    gnb.fit(X_train, Y_train)\n",
    "    y_pred = gnb.predict(X_test)\n",
    "    return y_pred"
   ]
  },
  {
   "cell_type": "code",
   "execution_count": 14,
   "metadata": {},
   "outputs": [],
   "source": [
    "def RF(X_train, X_test, Y_train):\n",
    "    \n",
    "    from sklearn.ensemble import RandomForestRegressor\n",
    "    rf = RandomForestRegressor(n_estimators = 15, random_state = 42)\n",
    "    rf.fit(X_train, Y_train);\n",
    "    y_pred = rf.predict(X_test)\n",
    "    return y_pred"
   ]
  },
  {
   "cell_type": "code",
   "execution_count": 15,
   "metadata": {},
   "outputs": [],
   "source": [
    "working_csv = df1 = pd.read_csv(\"psychroplanet.csv\")     # 18 rows , 46 columns.\n",
    "df2 = pd.read_csv(\"mesoplanet.csv\")                      # 31 rows , 46 columns\n",
    "df3 = pd.read_csv(\"non-habitable.csv\")                   # 3820 rows , 46 columns\n",
    "\n",
    "working_csv = working_csv.append(df2 , ignore_index = True)\n",
    "working_csv = working_csv.append(df3 , ignore_index = True)\n",
    "\n",
    "cols_at_end = [\"P. Habitable Class\"]\n",
    "working_csv = working_csv[[c for c in working_csv if c not in cols_at_end] \n",
    "        + [c for c in cols_at_end if c in working_csv]]\n",
    "\n",
    "cols = working_csv.columns\n",
    "\n",
    "working_csv.to_csv(\"complete_csv.csv\" , index = False)"
   ]
  },
  {
   "cell_type": "code",
   "execution_count": 16,
   "metadata": {},
   "outputs": [],
   "source": [
    "from sklearn.model_selection import train_test_split\n",
    "from functools import reduce\n",
    "def eva(model,iteration = 1,data = None):\n",
    "    scores = []\n",
    "    for i in range(iteration):\n",
    "        if data == 'com':\n",
    "            df = pd.read_csv(\"complete_csv.csv\")\n",
    "        else:\n",
    "            df = pd.read_csv(\"Datasets/working_csv\" + str(i) + \".csv\")\n",
    "        Y = df[\"P. Habitable Class\"]\n",
    "        X = df.drop(\"P. Habitable Class\",axis=1)\n",
    "\n",
    "        X = df.select_dtypes(include=['float64','int64'])\n",
    "\n",
    "        header = list(df.columns)\n",
    "\n",
    "        X_train, X_test, Y_train, Y_test = train_test_split(X, Y, test_size=0.30)\n",
    "        Y_test_list = Y_test.values.tolist()\n",
    "        \n",
    "        if model == 'DT':\n",
    "            y_pred = DecisionTrees(X_train, X_test, Y_train)\n",
    "        elif model == 'KNN':\n",
    "            from sklearn import preprocessing\n",
    "            le = preprocessing.LabelEncoder()\n",
    "            Y_en=le.fit_transform(Y)\n",
    "            X_train, X_test, Y_train, Y_test = train_test_split(X, Y, test_size=0.30)\n",
    "            Y_test_list = Y_test.values.tolist()\n",
    "            y_pred = KNN(X_train, X_test, Y_train)\n",
    "        elif model == 'GNB':\n",
    "            from sklearn import preprocessing\n",
    "            le = preprocessing.LabelEncoder()\n",
    "            Y_en=le.fit_transform(Y)\n",
    "            X_train, X_test, Y_train, Y_test = train_test_split(X, Y_en, test_size=0.30)\n",
    "            Y_test_list = list(Y_test)\n",
    "            y_pred = GNB(X_train, X_test, Y_train)\n",
    "        elif model == 'SVM':\n",
    "            y_pred = svm(X_train, X_test, Y_train)\n",
    "        elif model == 'RF':\n",
    "            from sklearn import preprocessing\n",
    "            le = preprocessing.LabelEncoder()\n",
    "            Y=le.fit_transform(Y)\n",
    "            X = np.array(X)\n",
    "            Y = np.array(Y)\n",
    "            X_train, X_test, Y_train, Y_test = train_test_split(X, Y, test_size=0.30)\n",
    "            Y_test_list = list(Y_test)\n",
    "            y_pred = RF(X_train, X_test, Y_train)\n",
    "\n",
    "        count = 0\n",
    "        for i in range(len(y_pred)):\n",
    "        #     print (\"Actual: %s. Predicted: %s\" % (row[-1], print_leaf(classify(row, my_tree))))\n",
    "            if y_pred[i] == Y_test_list[i]:\n",
    "                count += 1\n",
    "        scores.append([count/len(y_pred),count,len(y_pred)])\n",
    "\n",
    "    test_df = pd.DataFrame(scores, columns=[\"Accuracy\", \"right\", \"total\"])\n",
    "    print(reduce(lambda x,y: [(x[1]+y[1])/(x[2]+y[2]),(x[1]+y[1]),(x[2]+y[2])],scores))\n",
    "    test_df"
   ]
  },
  {
   "cell_type": "code",
   "execution_count": 12,
   "metadata": {},
   "outputs": [
    {
     "name": "stdout",
     "output_type": "stream",
     "text": [
      "[0.9896640826873385, 1149, 1161]\n"
     ]
    }
   ],
   "source": [
    "eva('RF',1,'com')"
   ]
  },
  {
   "cell_type": "code",
   "execution_count": 17,
   "metadata": {},
   "outputs": [
    {
     "name": "stdout",
     "output_type": "stream",
     "text": [
      "[0.5185882352941177, 4408, 8500]\n"
     ]
    }
   ],
   "source": [
    "eva('RF',500)"
   ]
  },
  {
   "cell_type": "code",
   "execution_count": 43,
   "metadata": {},
   "outputs": [
    {
     "name": "stdout",
     "output_type": "stream",
     "text": [
      "[0.9991386735572783, 1160, 1161]\n"
     ]
    }
   ],
   "source": [
    "eva('DT',1,'com')"
   ]
  },
  {
   "cell_type": "code",
   "execution_count": 39,
   "metadata": {},
   "outputs": [
    {
     "name": "stdout",
     "output_type": "stream",
     "text": [
      "[0.9114117647058824, 7747, 8500]\n"
     ]
    }
   ],
   "source": [
    "eva('DT',500)"
   ]
  },
  {
   "cell_type": "code",
   "execution_count": 45,
   "metadata": {},
   "outputs": [
    {
     "name": "stdout",
     "output_type": "stream",
     "text": [
      "[0.7058823529411765, 12, 17]\n"
     ]
    }
   ],
   "source": [
    "eva('SVM',1)"
   ]
  },
  {
   "cell_type": "code",
   "execution_count": 53,
   "metadata": {},
   "outputs": [
    {
     "name": "stdout",
     "output_type": "stream",
     "text": [
      "[0.8012941176470588, 6811, 8500]\n"
     ]
    }
   ],
   "source": [
    "eva('SVM',500)"
   ]
  },
  {
   "cell_type": "code",
   "execution_count": 48,
   "metadata": {},
   "outputs": [
    {
     "name": "stdout",
     "output_type": "stream",
     "text": [
      "[0.9879414298018949, 1147, 1161]\n"
     ]
    }
   ],
   "source": [
    "eva('KNN',1,'com')"
   ]
  },
  {
   "cell_type": "code",
   "execution_count": 49,
   "metadata": {},
   "outputs": [
    {
     "name": "stdout",
     "output_type": "stream",
     "text": [
      "[0.5041176470588236, 4285, 8500]\n"
     ]
    }
   ],
   "source": [
    "eva('KNN',500)"
   ]
  },
  {
   "cell_type": "code",
   "execution_count": 50,
   "metadata": {},
   "outputs": [
    {
     "name": "stdout",
     "output_type": "stream",
     "text": [
      "[0.9896640826873385, 1149, 1161]\n"
     ]
    }
   ],
   "source": [
    "eva('GNB',1,'com')"
   ]
  },
  {
   "cell_type": "code",
   "execution_count": 51,
   "metadata": {},
   "outputs": [
    {
     "name": "stdout",
     "output_type": "stream",
     "text": [
      "[0.9114117647058824, 7747, 8500]\n"
     ]
    }
   ],
   "source": [
    "eva('GNB',500)"
   ]
  },
  {
   "cell_type": "code",
   "execution_count": null,
   "metadata": {},
   "outputs": [],
   "source": []
  }
 ],
 "metadata": {
  "kernelspec": {
   "display_name": "Python 3",
   "language": "python",
   "name": "python3"
  },
  "language_info": {
   "codemirror_mode": {
    "name": "ipython",
    "version": 3
   },
   "file_extension": ".py",
   "mimetype": "text/x-python",
   "name": "python",
   "nbconvert_exporter": "python",
   "pygments_lexer": "ipython3",
   "version": "3.5.2"
  }
 },
 "nbformat": 4,
 "nbformat_minor": 2
}
