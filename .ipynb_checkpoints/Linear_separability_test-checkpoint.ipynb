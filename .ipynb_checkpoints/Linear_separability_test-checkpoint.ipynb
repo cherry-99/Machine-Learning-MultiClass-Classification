{
 "cells": [
  {
   "cell_type": "code",
   "execution_count": 1,
   "metadata": {},
   "outputs": [
    {
     "name": "stderr",
     "output_type": "stream",
     "text": [
      "Using TensorFlow backend.\n"
     ]
    }
   ],
   "source": [
    "import pandas as pd\n",
    "import numpy as np\n",
    "from scipy.spatial import ConvexHull\n",
    "from sklearn.preprocessing import LabelEncoder\n",
    "from keras.utils import np_utils\n",
    "from sklearn.preprocessing import StandardScaler\n",
    "from sklearn.linear_model import Perceptron\n",
    "from sklearn.metrics import confusion_matrix\n",
    "import matplotlib.pyplot as plt\n",
    "from matplotlib.colors import ListedColormap"
   ]
  },
  {
   "cell_type": "code",
   "execution_count": 2,
   "metadata": {},
   "outputs": [],
   "source": [
    "df = pd.read_csv(\"working_csv.csv\")\n",
    "cols = df.columns\n",
    "col_list = [\"P. Habitable Class\",\"P. Teq Max (K)\",\"S. Mag from Planet\",\"P. SFlux Mean (EU)\",\"S. Teff (K)\",\"P. Mag\",\"P. HZD\",\"P. ESI\",\"P. SPH\",\"P. HZC\",\"P. Gravity (EU)\",\"S. Size from Planet (deg)\",\"S. [Fe/H]\",\"S. DEC (deg)\",\"P. SFlux Min (EU)\",\"S. Hab Zone Max (AU)\",\"P. HZI\",\"P. Eccentricity\",\"P. Appar Size (deg)\"]\n",
    "for words in cols:\n",
    "    if words not in col_list:\n",
    "        df.drop(columns = [words] , inplace = True)"
   ]
  },
  {
   "cell_type": "code",
   "execution_count": 3,
   "metadata": {},
   "outputs": [],
   "source": [
    "df = df.sample(frac=1)"
   ]
  },
  {
   "cell_type": "code",
   "execution_count": 4,
   "metadata": {},
   "outputs": [
    {
     "name": "stdout",
     "output_type": "stream",
     "text": [
      "    P. Teq Max (K)  S. Mag from Planet\n",
      "53          1231.5               -33.5\n",
      "8            213.4               -26.0\n",
      "44           776.7               -31.6\n",
      "42           258.6               -26.8\n",
      "25           281.9               -27.0\n",
      "38           339.4               -27.7\n",
      "49          1116.4               -33.2\n",
      "22           249.0               -26.6\n",
      "46           982.3               -32.3\n",
      "52           821.8               -31.8\n",
      "10           206.9               -25.6\n",
      "2            224.1               -26.1\n",
      "6            231.4               -25.8\n",
      "5            271.3               -26.4\n",
      "0            241.3               -26.3\n",
      "23           266.9               -26.9\n",
      "21           243.4               -26.5\n",
      "19           271.5               -27.0\n",
      "45           449.0               -29.2\n",
      "34           293.2               -27.1\n",
      "50           455.1               -29.3\n",
      "28           276.5               -27.1\n",
      "11           237.8               -26.3\n",
      "20           248.0               -26.6\n",
      "3            208.8               -25.6\n",
      "51          1043.2               -32.9\n",
      "15           229.3               -26.3\n",
      "30           262.7               -26.9\n",
      "37           932.1               -32.4\n",
      "12           213.2               -26.0\n",
      "48           789.0               -31.1\n",
      "17           199.7               -25.7\n",
      "31           248.3               -26.6\n",
      "29           338.0               -27.2\n",
      "7            201.1               -25.7\n",
      "18           302.3               -27.0\n",
      "27           263.7               -26.9\n",
      "32           262.0               -26.6\n",
      "14           238.9               -25.8\n",
      "24           280.1               -27.1\n",
      "16           229.1               -26.3\n",
      "43           915.1               -31.8\n",
      "13           228.8               -26.3\n",
      "4            235.1               -26.1\n",
      "41           566.1               -30.2\n",
      "47           846.2               -32.0\n",
      "40           571.2               -30.3\n",
      "9            205.9               -25.8\n",
      "36           250.1               -24.0\n",
      "39           354.5               -27.9\n",
      "1            190.8               -25.4\n",
      "33           237.3               -26.3\n",
      "26           274.3               -27.1\n",
      "35           251.2               -26.5\n"
     ]
    }
   ],
   "source": [
    "x = df[[\"P. Teq Max (K)\" , \"S. Mag from Planet\"]]\n",
    "dataset = df.values\n",
    "#x = df[\"P. Teq Max (K)\"]\n",
    "#x = x.append(df[\"S. Mag from Planet\"])\n",
    "#x = dataset[:,1:19].astype(float)\n",
    "print(x)"
   ]
  },
  {
   "cell_type": "code",
   "execution_count": 5,
   "metadata": {},
   "outputs": [],
   "source": [
    "x = x.values\n",
    "new_y = dataset[:,0]"
   ]
  },
  {
   "cell_type": "code",
   "execution_count": 6,
   "metadata": {},
   "outputs": [],
   "source": [
    "y = list()\n",
    "for values in new_y:\n",
    "    if values == \"non-habitable\":\n",
    "        y.append(1)\n",
    "    else:\n",
    "        y.append(0)"
   ]
  },
  {
   "cell_type": "code",
   "execution_count": 7,
   "metadata": {},
   "outputs": [
    {
     "name": "stdout",
     "output_type": "stream",
     "text": [
      "[1, 0, 1, 1, 0, 1, 1, 0, 1, 1, 0, 0, 0, 0, 0, 0, 0, 0, 1, 0, 1, 0, 0, 0, 0, 1, 0, 0, 1, 0, 1, 0, 0, 0, 0, 0, 0, 0, 0, 0, 0, 1, 0, 0, 1, 1, 1, 0, 1, 1, 0, 0, 0, 0]\n"
     ]
    }
   ],
   "source": [
    "print(y)"
   ]
  },
  {
   "cell_type": "code",
   "execution_count": 8,
   "metadata": {},
   "outputs": [],
   "source": [
    "y = np.asarray(y)"
   ]
  },
  {
   "cell_type": "code",
   "execution_count": 9,
   "metadata": {},
   "outputs": [
    {
     "data": {
      "text/plain": [
       "numpy.ndarray"
      ]
     },
     "execution_count": 9,
     "metadata": {},
     "output_type": "execute_result"
    }
   ],
   "source": [
    "type(y)"
   ]
  },
  {
   "cell_type": "code",
   "execution_count": 10,
   "metadata": {},
   "outputs": [],
   "source": [
    "sc= StandardScaler()\n",
    "x = sc.fit_transform(x)"
   ]
  },
  {
   "cell_type": "code",
   "execution_count": 11,
   "metadata": {},
   "outputs": [],
   "source": [
    "perceptron = Perceptron(random_state = 0)\n",
    "perceptron.fit(x, y)\n",
    "predicted = perceptron.predict(x)"
   ]
  },
  {
   "cell_type": "code",
   "execution_count": 12,
   "metadata": {},
   "outputs": [
    {
     "data": {
      "image/png": "[encoded data removed]",
      "text/plain": [
       "<Figure size 432x288 with 1 Axes>"
      ]
     },
     "metadata": {
      "needs_background": "light"
     },
     "output_type": "display_data"
    }
   ],
   "source": [
    "cm = confusion_matrix(y, predicted)\n",
    " \n",
    "plt.clf() \n",
    "plt.imshow(cm, interpolation='nearest', cmap=plt.cm.Wistia)\n",
    "classNames = ['Negative','Positive']\n",
    "plt.title('Perceptron Confusion Matrix - Entire Data')\n",
    "plt.ylabel('True label')\n",
    "plt.xlabel('Predicted label')\n",
    "tick_marks = np.arange(len(classNames))\n",
    "plt.xticks(tick_marks, classNames, rotation=45)\n",
    "plt.yticks(tick_marks, classNames)\n",
    "s = [['TN','FP'], ['FN', 'TP']]\n",
    "  \n",
    "for i in range(2):\n",
    "    for j in range(2):\n",
    "        plt.text(j,i, str(s[i][j])+\" = \"+str(cm[i][j]))\n",
    "plt.show()\n"
   ]
  },
  {
   "cell_type": "code",
   "execution_count": 13,
   "metadata": {},
   "outputs": [
    {
     "name": "stderr",
     "output_type": "stream",
     "text": [
      "'c' argument looks like a single numeric RGB or RGBA sequence, which should be avoided as value-mapping will have precedence in case its length matches with 'x' & 'y'.  Please use a 2-D array with a single row if you really want to specify the same RGB or RGBA value for all points.\n",
      "'c' argument looks like a single numeric RGB or RGBA sequence, which should be avoided as value-mapping will have precedence in case its length matches with 'x' & 'y'.  Please use a 2-D array with a single row if you really want to specify the same RGB or RGBA value for all points.\n"
     ]
    },
    {
     "data": {
      "image/png": "[encoded data removed]",
      "text/plain": [
       "<Figure size 432x288 with 1 Axes>"
      ]
     },
     "metadata": {
      "needs_background": "light"
     },
     "output_type": "display_data"
    }
   ],
   "source": [
    "plt.clf()\n",
    "X_set, y_set = x, y\n",
    "X1, X2 = np.meshgrid(np.arange(start = X_set[:, 0].min() - 1, stop = X_set[:, 0].max() + 1, step = 0.01),\n",
    "                     np.arange(start = X_set[:, 1].min() - 1, stop = X_set[:, 1].max() + 1, step = 0.01))\n",
    "plt.contourf(X1, X2, perceptron.predict(np.array([X1.ravel(), X2.ravel()]).T).reshape(X1.shape),alpha = 0.75, cmap = ListedColormap(('navajowhite', 'darkkhaki')))\n",
    "plt.xlim(X1.min(), X1.max())\n",
    "plt.ylim(X2.min(), X2.max())\n",
    "for i, j in enumerate(np.unique(y_set)):\n",
    "    plt.scatter(X_set[y_set == j, 0], X_set[y_set == j, 1],\n",
    "                c = ListedColormap(('red', 'green'))(i), label = j)\n",
    "plt.title('Perceptron Classifier (Decision boundary for Non Habitable vs the rest)')\n",
    "plt.xlabel('P Teq max (k)')\n",
    "plt.ylabel('S. Mag from Planet')\n",
    "plt.legend()\n",
    "plt.show()"
   ]
  },
  {
   "cell_type": "code",
   "execution_count": null,
   "metadata": {},
   "outputs": [],
   "source": []
  }
 ],
 "metadata": {
  "kernelspec": {
   "display_name": "Python 3",
   "language": "python",
   "name": "python3"
  },
  "language_info": {
   "codemirror_mode": {
    "name": "ipython",
    "version": 3
   },
   "file_extension": ".py",
   "mimetype": "text/x-python",
   "name": "python",
   "nbconvert_exporter": "python",
   "pygments_lexer": "ipython3",
   "version": "3.6.8"
  }
 },
 "nbformat": 4,
 "nbformat_minor": 2
}
