{
 "cells": [
  {
   "cell_type": "code",
   "execution_count": 1,
   "metadata": {},
   "outputs": [],
   "source": [
    "import pandas as pd\n",
    "import numpy as np\n",
    "from sklearn.feature_selection import SelectKBest\n",
    "from sklearn.feature_selection import chi2\n",
    "from sklearn.ensemble import ExtraTreesClassifier\n",
    "import matplotlib.pyplot as plt"
   ]
  },
  {
   "cell_type": "code",
   "execution_count": 2,
   "metadata": {},
   "outputs": [],
   "source": [
    "working_csv = df1 = pd.read_csv(\"psychroplanet.csv\")     # 18 rows , 46 columns.\n",
    "df2 = pd.read_csv(\"mesoplanet.csv\")                      # 31 rows , 46 columns\n",
    "df3 = pd.read_csv(\"non-habitable.csv\")                   # 3820 rows , 46 columns"
   ]
  },
  {
   "cell_type": "code",
   "execution_count": 3,
   "metadata": {},
   "outputs": [],
   "source": [
    "temp1 = df2.sample(n = 18 , replace = False)\n",
    "temp2 = df3.sample(n = 18 , replace = False)\n",
    "\n",
    "# This is to obtain a random sample of size 18 from the other two datasets and create a new dataset upon which \n",
    "# we will build the model."
   ]
  },
  {
   "cell_type": "code",
   "execution_count": 4,
   "metadata": {},
   "outputs": [],
   "source": [
    "working_csv = working_csv.append(temp1 , ignore_index = True)\n",
    "working_csv = working_csv.append(temp2 , ignore_index = True)\n",
    "\n",
    "# Don't run this cell over and over again , it will create a sample size greater than 54.\n",
    "\n",
    "# Now in the variable working_csv we have a sample of size 54 (18 x 3) , giving a equal representation of all the\n",
    "# classes. We have to build 500 such sample and run our models for 500 iterations over each sample."
   ]
  },
  {
   "cell_type": "code",
   "execution_count": 5,
   "metadata": {},
   "outputs": [
    {
     "name": "stdout",
     "output_type": "stream",
     "text": [
      "54\n"
     ]
    }
   ],
   "source": [
    "print(len(working_csv))\n",
    "working_csv.to_csv(\"working_csv.csv\" , index = False)\n",
    "#The output should always be 54 (Length or number of rows)"
   ]
  },
  {
   "cell_type": "code",
   "execution_count": 6,
   "metadata": {},
   "outputs": [
    {
     "data": {
      "text/plain": [
       "41"
      ]
     },
     "execution_count": 6,
     "metadata": {},
     "output_type": "execute_result"
    }
   ],
   "source": [
    "cols_at_end = [\"P. Habitable Class\"]\n",
    "working_csv = working_csv[[c for c in working_csv if c not in cols_at_end] \n",
    "        + [c for c in cols_at_end if c in working_csv]]\n",
    "\n",
    "cols = working_csv.columns\n",
    "len(cols)\n"
   ]
  },
  {
   "cell_type": "code",
   "execution_count": 7,
   "metadata": {
    "scrolled": true
   },
   "outputs": [
    {
     "name": "stderr",
     "output_type": "stream",
     "text": [
      "/usr/local/lib/python3.6/dist-packages/sklearn/ensemble/forest.py:245: FutureWarning: The default value of n_estimators will change from 10 in version 0.20 to 100 in 0.22.\n",
      "  \"10 in version 0.20 to 100 in 0.22.\", FutureWarning)\n"
     ]
    },
    {
     "name": "stdout",
     "output_type": "stream",
     "text": [
      "[0.02386422 0.00977954 0.01832011 0.08004209 0.01096028 0.13652675\n",
      " 0.07729127 0.01192704 0.01212963 0.00709877 0.         0.0047619\n",
      " 0.07832584 0.01984977 0.00416667 0.00329435 0.01083774 0.\n",
      " 0.01947461 0.09981374 0.02291575 0.00526316 0.04899639 0.01310813\n",
      " 0.06646648 0.02497964 0.01094394 0.01280199 0.04198445 0.05120333\n",
      " 0.         0.07287242 0.        ]\n"
     ]
    },
    {
     "data": {
      "image/png": "[encoded data removed]",
      "text/plain": [
       "<Figure size 432x288 with 1 Axes>"
      ]
     },
     "metadata": {
      "needs_background": "light"
     },
     "output_type": "display_data"
    }
   ],
   "source": [
    "# Before bulding the model , we have 48 columns. We have to rank the columns in order of their influence of the\n",
    "# on the class label.\n",
    "\n",
    "#We are extracting the top 20 attributes that influence our classification here.\n",
    "\n",
    "# Target variable : P. Habitable Class\n",
    "\n",
    "X = working_csv.iloc[:,6:39]                             #Numeric columns\n",
    "y = working_csv[\"P. Habitable Class\"]                    #target column\n",
    "\n",
    "model = ExtraTreesClassifier()\n",
    "model.fit(X,y)\n",
    "print(model.feature_importances_) #use inbuilt class feature_importances of tree based classifiers\n",
    "\n",
    "#plot graph of feature importances for better visualization\n",
    "feat_importances = pd.Series(model.feature_importances_, index=X.columns)\n",
    "feat_importances.nlargest(20).plot(kind='barh')\n",
    "plt.show()\n"
   ]
  },
  {
   "cell_type": "code",
   "execution_count": 8,
   "metadata": {},
   "outputs": [
    {
     "data": {
      "text/plain": [
       "20"
      ]
     },
     "execution_count": 8,
     "metadata": {},
     "output_type": "execute_result"
    }
   ],
   "source": [
    "imp_attributes = feat_importances.nlargest(20)\n",
    "len(imp_attributes)"
   ]
  },
  {
   "cell_type": "code",
   "execution_count": 9,
   "metadata": {},
   "outputs": [
    {
     "data": {
      "text/plain": [
       "P. Teq Max (K)               0.136527\n",
       "S. Mag from Planet           0.099814\n",
       "P. SFlux Mean (EU)           0.080042\n",
       "S. Teff (K)                  0.078326\n",
       "P. Mag                       0.077291\n",
       "P. Habitable                 0.072872\n",
       "P. HZD                       0.066466\n",
       "P. ESI                       0.051203\n",
       "S. No. Planets HZ            0.048996\n",
       "P. SPH                       0.041984\n",
       "P. HZC                       0.024980\n",
       "P. Gravity (EU)              0.023864\n",
       "S. Size from Planet (deg)    0.022916\n",
       "S. [Fe/H]                    0.019850\n",
       "S. DEC (deg)                 0.019475\n",
       "P. SFlux Min (EU)            0.018320\n",
       "S. Hab Zone Max (AU)         0.013108\n",
       "P. HZI                       0.012802\n",
       "P. Eccentricity              0.012130\n",
       "P. Appar Size (deg)          0.011927\n",
       "dtype: float64"
      ]
     },
     "execution_count": 9,
     "metadata": {},
     "output_type": "execute_result"
    }
   ],
   "source": [
    "imp_attributes"
   ]
  },
  {
   "cell_type": "code",
   "execution_count": null,
   "metadata": {},
   "outputs": [],
   "source": []
  }
 ],
 "metadata": {
  "kernelspec": {
   "display_name": "Python 3",
   "language": "python",
   "name": "python3"
  },
  "language_info": {
   "codemirror_mode": {
    "name": "ipython",
    "version": 3
   },
   "file_extension": ".py",
   "mimetype": "text/x-python",
   "name": "python",
   "nbconvert_exporter": "python",
   "pygments_lexer": "ipython3",
   "version": "3.6.8"
  }
 },
 "nbformat": 4,
 "nbformat_minor": 2
}
